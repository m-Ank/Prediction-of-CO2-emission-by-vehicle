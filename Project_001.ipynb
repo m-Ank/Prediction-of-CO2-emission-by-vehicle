{
  "cells": [
    {
      "cell_type": "markdown",
      "metadata": {
        "id": "mA-RaMlCalbA"
      },
      "source": [
        "# Problem\n",
        "*  Determine or test the influence of different variables on the emission of CO2.\n",
        "*What are the most influencing features that affect the CO2 emission the most?\n",
        "*Will there be any difference in the CO2 emissions when Fuel Consumption for City and Highway are considered separately and when their weighted variable interaction is considered?"
      ]
    },
    {
      "cell_type": "markdown",
      "metadata": {
        "id": "uiYqWopOISRk"
      },
      "source": [
        "#Importing Necessary libraries"
      ]
    },
    {
      "cell_type": "code",
      "execution_count": null,
      "metadata": {
        "id": "z0t_TBI7IYCh"
      },
      "outputs": [],
      "source": [
        "import pandas as pd\n",
        "import numpy as np\n",
        "import matplotlib.pyplot as plt\n",
        "import seaborn as sns"
      ]
    },
    {
      "cell_type": "code",
      "execution_count": null,
      "metadata": {
        "id": "b2jxVOso-a6G"
      },
      "outputs": [],
      "source": [
        "df = pd.read_csv(\"/content/drive/MyDrive/Project/CO2 Emissions_Canada.csv\")"
      ]
    },
    {
      "cell_type": "markdown",
      "metadata": {
        "id": "Kd9G_wrCRLB3"
      },
      "source": [
        "Model\n",
        "*    4WD/4X4 = Four-wheel drive\n",
        "*    AWD = All-wheel drive\n",
        "*FFV = Flexible-fuel vehicle\n",
        "*SWB = Short wheelbase\n",
        "*LWB = Long wheelbase\n",
        "*EWB = Extended wheelbase\n",
        "\n",
        "Transmission\n",
        "*    A = Automatic\n",
        "*AM = Automated manual\n",
        "*AS = Automatic with select shift\n",
        "*AV = Continuously variable\n",
        "*M = Manual\n",
        "*3 - 10 = Number of gears\n",
        "\n",
        "Fuel type\n",
        "* X = Regular gasoline\n",
        "*Z = Premium gasoline\n",
        "*D = Diesel\n",
        "*E = Ethanol (E85)\n",
        "*N = Natural gas"
      ]
    },
    {
      "cell_type": "markdown",
      "metadata": {
        "id": "OrYNm0pnGtBZ"
      },
      "source": [
        "#Understanding the data"
      ]
    },
    {
      "cell_type": "code",
      "execution_count": null,
      "metadata": {
        "colab": {
          "base_uri": "https://localhost:8080/",
          "height": 330
        },
        "id": "7LObZ1xY-ww8",
        "outputId": "ecc2471e-bdd3-440c-f445-f325ae9dfb85"
      },
      "outputs": [
        {
          "data": {
            "text/html": [
              "\n",
              "  <div id=\"df-174a3595-c5fb-4582-a676-c02894964130\" class=\"colab-df-container\">\n",
              "    <div>\n",
              "<style scoped>\n",
              "    .dataframe tbody tr th:only-of-type {\n",
              "        vertical-align: middle;\n",
              "    }\n",
              "\n",
              "    .dataframe tbody tr th {\n",
              "        vertical-align: top;\n",
              "    }\n",
              "\n",
              "    .dataframe thead th {\n",
              "        text-align: right;\n",
              "    }\n",
              "</style>\n",
              "<table border=\"1\" class=\"dataframe\">\n",
              "  <thead>\n",
              "    <tr style=\"text-align: right;\">\n",
              "      <th></th>\n",
              "      <th>Make</th>\n",
              "      <th>Model</th>\n",
              "      <th>Vehicle Class</th>\n",
              "      <th>Engine Size(L)</th>\n",
              "      <th>Cylinders</th>\n",
              "      <th>Transmission</th>\n",
              "      <th>Fuel Type</th>\n",
              "      <th>Fuel Consumption City (L/100 km)</th>\n",
              "      <th>Fuel Consumption Hwy (L/100 km)</th>\n",
              "      <th>Fuel Consumption Comb (L/100 km)</th>\n",
              "      <th>Fuel Consumption Comb (mpg)</th>\n",
              "      <th>CO2 Emissions(g/km)</th>\n",
              "    </tr>\n",
              "  </thead>\n",
              "  <tbody>\n",
              "    <tr>\n",
              "      <th>0</th>\n",
              "      <td>ACURA</td>\n",
              "      <td>ILX</td>\n",
              "      <td>COMPACT</td>\n",
              "      <td>2.0</td>\n",
              "      <td>4</td>\n",
              "      <td>AS5</td>\n",
              "      <td>Z</td>\n",
              "      <td>9.9</td>\n",
              "      <td>6.7</td>\n",
              "      <td>8.5</td>\n",
              "      <td>33</td>\n",
              "      <td>196</td>\n",
              "    </tr>\n",
              "    <tr>\n",
              "      <th>1</th>\n",
              "      <td>ACURA</td>\n",
              "      <td>ILX</td>\n",
              "      <td>COMPACT</td>\n",
              "      <td>2.4</td>\n",
              "      <td>4</td>\n",
              "      <td>M6</td>\n",
              "      <td>Z</td>\n",
              "      <td>11.2</td>\n",
              "      <td>7.7</td>\n",
              "      <td>9.6</td>\n",
              "      <td>29</td>\n",
              "      <td>221</td>\n",
              "    </tr>\n",
              "    <tr>\n",
              "      <th>2</th>\n",
              "      <td>ACURA</td>\n",
              "      <td>ILX HYBRID</td>\n",
              "      <td>COMPACT</td>\n",
              "      <td>1.5</td>\n",
              "      <td>4</td>\n",
              "      <td>AV7</td>\n",
              "      <td>Z</td>\n",
              "      <td>6.0</td>\n",
              "      <td>5.8</td>\n",
              "      <td>5.9</td>\n",
              "      <td>48</td>\n",
              "      <td>136</td>\n",
              "    </tr>\n",
              "    <tr>\n",
              "      <th>3</th>\n",
              "      <td>ACURA</td>\n",
              "      <td>MDX 4WD</td>\n",
              "      <td>SUV - SMALL</td>\n",
              "      <td>3.5</td>\n",
              "      <td>6</td>\n",
              "      <td>AS6</td>\n",
              "      <td>Z</td>\n",
              "      <td>12.7</td>\n",
              "      <td>9.1</td>\n",
              "      <td>11.1</td>\n",
              "      <td>25</td>\n",
              "      <td>255</td>\n",
              "    </tr>\n",
              "    <tr>\n",
              "      <th>4</th>\n",
              "      <td>ACURA</td>\n",
              "      <td>RDX AWD</td>\n",
              "      <td>SUV - SMALL</td>\n",
              "      <td>3.5</td>\n",
              "      <td>6</td>\n",
              "      <td>AS6</td>\n",
              "      <td>Z</td>\n",
              "      <td>12.1</td>\n",
              "      <td>8.7</td>\n",
              "      <td>10.6</td>\n",
              "      <td>27</td>\n",
              "      <td>244</td>\n",
              "    </tr>\n",
              "  </tbody>\n",
              "</table>\n",
              "</div>\n",
              "    <div class=\"colab-df-buttons\">\n",
              "\n",
              "  <div class=\"colab-df-container\">\n",
              "    <button class=\"colab-df-convert\" onclick=\"convertToInteractive('df-174a3595-c5fb-4582-a676-c02894964130')\"\n",
              "            title=\"Convert this dataframe to an interactive table.\"\n",
              "            style=\"display:none;\">\n",
              "\n",
              "  <svg xmlns=\"http://www.w3.org/2000/svg\" height=\"24px\" viewBox=\"0 -960 960 960\">\n",
              "    <path d=\"M120-120v-720h720v720H120Zm60-500h600v-160H180v160Zm220 220h160v-160H400v160Zm0 220h160v-160H400v160ZM180-400h160v-160H180v160Zm440 0h160v-160H620v160ZM180-180h160v-160H180v160Zm440 0h160v-160H620v160Z\"/>\n",
              "  </svg>\n",
              "    </button>\n",
              "\n",
              "  <style>\n",
              "    .colab-df-container {\n",
              "      display:flex;\n",
              "      gap: 12px;\n",
              "    }\n",
              "\n",
              "    .colab-df-convert {\n",
              "      background-color: #E8F0FE;\n",
              "      border: none;\n",
              "      border-radius: 50%;\n",
              "      cursor: pointer;\n",
              "      display: none;\n",
              "      fill: #1967D2;\n",
              "      height: 32px;\n",
              "      padding: 0 0 0 0;\n",
              "      width: 32px;\n",
              "    }\n",
              "\n",
              "    .colab-df-convert:hover {\n",
              "      background-color: #E2EBFA;\n",
              "      box-shadow: 0px 1px 2px rgba(60, 64, 67, 0.3), 0px 1px 3px 1px rgba(60, 64, 67, 0.15);\n",
              "      fill: #174EA6;\n",
              "    }\n",
              "\n",
              "    .colab-df-buttons div {\n",
              "      margin-bottom: 4px;\n",
              "    }\n",
              "\n",
              "    [theme=dark] .colab-df-convert {\n",
              "      background-color: #3B4455;\n",
              "      fill: #D2E3FC;\n",
              "    }\n",
              "\n",
              "    [theme=dark] .colab-df-convert:hover {\n",
              "      background-color: #434B5C;\n",
              "      box-shadow: 0px 1px 3px 1px rgba(0, 0, 0, 0.15);\n",
              "      filter: drop-shadow(0px 1px 2px rgba(0, 0, 0, 0.3));\n",
              "      fill: #FFFFFF;\n",
              "    }\n",
              "  </style>\n",
              "\n",
              "    <script>\n",
              "      const buttonEl =\n",
              "        document.querySelector('#df-174a3595-c5fb-4582-a676-c02894964130 button.colab-df-convert');\n",
              "      buttonEl.style.display =\n",
              "        google.colab.kernel.accessAllowed ? 'block' : 'none';\n",
              "\n",
              "      async function convertToInteractive(key) {\n",
              "        const element = document.querySelector('#df-174a3595-c5fb-4582-a676-c02894964130');\n",
              "        const dataTable =\n",
              "          await google.colab.kernel.invokeFunction('convertToInteractive',\n",
              "                                                    [key], {});\n",
              "        if (!dataTable) return;\n",
              "\n",
              "        const docLinkHtml = 'Like what you see? Visit the ' +\n",
              "          '<a target=\"_blank\" href=https://colab.research.google.com/notebooks/data_table.ipynb>data table notebook</a>'\n",
              "          + ' to learn more about interactive tables.';\n",
              "        element.innerHTML = '';\n",
              "        dataTable['output_type'] = 'display_data';\n",
              "        await google.colab.output.renderOutput(dataTable, element);\n",
              "        const docLink = document.createElement('div');\n",
              "        docLink.innerHTML = docLinkHtml;\n",
              "        element.appendChild(docLink);\n",
              "      }\n",
              "    </script>\n",
              "  </div>\n",
              "\n",
              "\n",
              "<div id=\"df-4c19991c-2f95-4abd-99b6-dc7dd7e3af10\">\n",
              "  <button class=\"colab-df-quickchart\" onclick=\"quickchart('df-4c19991c-2f95-4abd-99b6-dc7dd7e3af10')\"\n",
              "            title=\"Suggest charts.\"\n",
              "            style=\"display:none;\">\n",
              "\n",
              "<svg xmlns=\"http://www.w3.org/2000/svg\" height=\"24px\"viewBox=\"0 0 24 24\"\n",
              "     width=\"24px\">\n",
              "    <g>\n",
              "        <path d=\"M19 3H5c-1.1 0-2 .9-2 2v14c0 1.1.9 2 2 2h14c1.1 0 2-.9 2-2V5c0-1.1-.9-2-2-2zM9 17H7v-7h2v7zm4 0h-2V7h2v10zm4 0h-2v-4h2v4z\"/>\n",
              "    </g>\n",
              "</svg>\n",
              "  </button>\n",
              "\n",
              "<style>\n",
              "  .colab-df-quickchart {\n",
              "      --bg-color: #E8F0FE;\n",
              "      --fill-color: #1967D2;\n",
              "      --hover-bg-color: #E2EBFA;\n",
              "      --hover-fill-color: #174EA6;\n",
              "      --disabled-fill-color: #AAA;\n",
              "      --disabled-bg-color: #DDD;\n",
              "  }\n",
              "\n",
              "  [theme=dark] .colab-df-quickchart {\n",
              "      --bg-color: #3B4455;\n",
              "      --fill-color: #D2E3FC;\n",
              "      --hover-bg-color: #434B5C;\n",
              "      --hover-fill-color: #FFFFFF;\n",
              "      --disabled-bg-color: #3B4455;\n",
              "      --disabled-fill-color: #666;\n",
              "  }\n",
              "\n",
              "  .colab-df-quickchart {\n",
              "    background-color: var(--bg-color);\n",
              "    border: none;\n",
              "    border-radius: 50%;\n",
              "    cursor: pointer;\n",
              "    display: none;\n",
              "    fill: var(--fill-color);\n",
              "    height: 32px;\n",
              "    padding: 0;\n",
              "    width: 32px;\n",
              "  }\n",
              "\n",
              "  .colab-df-quickchart:hover {\n",
              "    background-color: var(--hover-bg-color);\n",
              "    box-shadow: 0 1px 2px rgba(60, 64, 67, 0.3), 0 1px 3px 1px rgba(60, 64, 67, 0.15);\n",
              "    fill: var(--button-hover-fill-color);\n",
              "  }\n",
              "\n",
              "  .colab-df-quickchart-complete:disabled,\n",
              "  .colab-df-quickchart-complete:disabled:hover {\n",
              "    background-color: var(--disabled-bg-color);\n",
              "    fill: var(--disabled-fill-color);\n",
              "    box-shadow: none;\n",
              "  }\n",
              "\n",
              "  .colab-df-spinner {\n",
              "    border: 2px solid var(--fill-color);\n",
              "    border-color: transparent;\n",
              "    border-bottom-color: var(--fill-color);\n",
              "    animation:\n",
              "      spin 1s steps(1) infinite;\n",
              "  }\n",
              "\n",
              "  @keyframes spin {\n",
              "    0% {\n",
              "      border-color: transparent;\n",
              "      border-bottom-color: var(--fill-color);\n",
              "      border-left-color: var(--fill-color);\n",
              "    }\n",
              "    20% {\n",
              "      border-color: transparent;\n",
              "      border-left-color: var(--fill-color);\n",
              "      border-top-color: var(--fill-color);\n",
              "    }\n",
              "    30% {\n",
              "      border-color: transparent;\n",
              "      border-left-color: var(--fill-color);\n",
              "      border-top-color: var(--fill-color);\n",
              "      border-right-color: var(--fill-color);\n",
              "    }\n",
              "    40% {\n",
              "      border-color: transparent;\n",
              "      border-right-color: var(--fill-color);\n",
              "      border-top-color: var(--fill-color);\n",
              "    }\n",
              "    60% {\n",
              "      border-color: transparent;\n",
              "      border-right-color: var(--fill-color);\n",
              "    }\n",
              "    80% {\n",
              "      border-color: transparent;\n",
              "      border-right-color: var(--fill-color);\n",
              "      border-bottom-color: var(--fill-color);\n",
              "    }\n",
              "    90% {\n",
              "      border-color: transparent;\n",
              "      border-bottom-color: var(--fill-color);\n",
              "    }\n",
              "  }\n",
              "</style>\n",
              "\n",
              "  <script>\n",
              "    async function quickchart(key) {\n",
              "      const quickchartButtonEl =\n",
              "        document.querySelector('#' + key + ' button');\n",
              "      quickchartButtonEl.disabled = true;  // To prevent multiple clicks.\n",
              "      quickchartButtonEl.classList.add('colab-df-spinner');\n",
              "      try {\n",
              "        const charts = await google.colab.kernel.invokeFunction(\n",
              "            'suggestCharts', [key], {});\n",
              "      } catch (error) {\n",
              "        console.error('Error during call to suggestCharts:', error);\n",
              "      }\n",
              "      quickchartButtonEl.classList.remove('colab-df-spinner');\n",
              "      quickchartButtonEl.classList.add('colab-df-quickchart-complete');\n",
              "    }\n",
              "    (() => {\n",
              "      let quickchartButtonEl =\n",
              "        document.querySelector('#df-4c19991c-2f95-4abd-99b6-dc7dd7e3af10 button');\n",
              "      quickchartButtonEl.style.display =\n",
              "        google.colab.kernel.accessAllowed ? 'block' : 'none';\n",
              "    })();\n",
              "  </script>\n",
              "</div>\n",
              "    </div>\n",
              "  </div>\n"
            ],
            "text/plain": [
              "    Make       Model Vehicle Class  Engine Size(L)  Cylinders Transmission  \\\n",
              "0  ACURA         ILX       COMPACT             2.0          4          AS5   \n",
              "1  ACURA         ILX       COMPACT             2.4          4           M6   \n",
              "2  ACURA  ILX HYBRID       COMPACT             1.5          4          AV7   \n",
              "3  ACURA     MDX 4WD   SUV - SMALL             3.5          6          AS6   \n",
              "4  ACURA     RDX AWD   SUV - SMALL             3.5          6          AS6   \n",
              "\n",
              "  Fuel Type  Fuel Consumption City (L/100 km)  \\\n",
              "0         Z                               9.9   \n",
              "1         Z                              11.2   \n",
              "2         Z                               6.0   \n",
              "3         Z                              12.7   \n",
              "4         Z                              12.1   \n",
              "\n",
              "   Fuel Consumption Hwy (L/100 km)  Fuel Consumption Comb (L/100 km)  \\\n",
              "0                              6.7                               8.5   \n",
              "1                              7.7                               9.6   \n",
              "2                              5.8                               5.9   \n",
              "3                              9.1                              11.1   \n",
              "4                              8.7                              10.6   \n",
              "\n",
              "   Fuel Consumption Comb (mpg)  CO2 Emissions(g/km)  \n",
              "0                           33                  196  \n",
              "1                           29                  221  \n",
              "2                           48                  136  \n",
              "3                           25                  255  \n",
              "4                           27                  244  "
            ]
          },
          "execution_count": 83,
          "metadata": {},
          "output_type": "execute_result"
        }
      ],
      "source": [
        "df.head(5)"
      ]
    },
    {
      "cell_type": "code",
      "execution_count": null,
      "metadata": {
        "colab": {
          "base_uri": "https://localhost:8080/",
          "height": 452
        },
        "id": "gBP6dMWgF4_Y",
        "outputId": "d05b8bc4-300e-4f1a-e4ec-c5be44d5c4ec"
      },
      "outputs": [
        {
          "data": {
            "text/html": [
              "\n",
              "  <div id=\"df-3801a6ed-e3b7-4a7d-8dc5-eee9350b5bee\" class=\"colab-df-container\">\n",
              "    <div>\n",
              "<style scoped>\n",
              "    .dataframe tbody tr th:only-of-type {\n",
              "        vertical-align: middle;\n",
              "    }\n",
              "\n",
              "    .dataframe tbody tr th {\n",
              "        vertical-align: top;\n",
              "    }\n",
              "\n",
              "    .dataframe thead th {\n",
              "        text-align: right;\n",
              "    }\n",
              "</style>\n",
              "<table border=\"1\" class=\"dataframe\">\n",
              "  <thead>\n",
              "    <tr style=\"text-align: right;\">\n",
              "      <th></th>\n",
              "      <th>Make</th>\n",
              "      <th>Model</th>\n",
              "      <th>Vehicle Class</th>\n",
              "      <th>Engine Size(L)</th>\n",
              "      <th>Cylinders</th>\n",
              "      <th>Transmission</th>\n",
              "      <th>Fuel Type</th>\n",
              "      <th>Fuel Consumption City (L/100 km)</th>\n",
              "      <th>Fuel Consumption Hwy (L/100 km)</th>\n",
              "      <th>Fuel Consumption Comb (L/100 km)</th>\n",
              "      <th>Fuel Consumption Comb (mpg)</th>\n",
              "      <th>CO2 Emissions(g/km)</th>\n",
              "    </tr>\n",
              "  </thead>\n",
              "  <tbody>\n",
              "    <tr>\n",
              "      <th>7380</th>\n",
              "      <td>VOLVO</td>\n",
              "      <td>XC40 T5 AWD</td>\n",
              "      <td>SUV - SMALL</td>\n",
              "      <td>2.0</td>\n",
              "      <td>4</td>\n",
              "      <td>AS8</td>\n",
              "      <td>Z</td>\n",
              "      <td>10.7</td>\n",
              "      <td>7.7</td>\n",
              "      <td>9.4</td>\n",
              "      <td>30</td>\n",
              "      <td>219</td>\n",
              "    </tr>\n",
              "    <tr>\n",
              "      <th>7381</th>\n",
              "      <td>VOLVO</td>\n",
              "      <td>XC60 T5 AWD</td>\n",
              "      <td>SUV - SMALL</td>\n",
              "      <td>2.0</td>\n",
              "      <td>4</td>\n",
              "      <td>AS8</td>\n",
              "      <td>Z</td>\n",
              "      <td>11.2</td>\n",
              "      <td>8.3</td>\n",
              "      <td>9.9</td>\n",
              "      <td>29</td>\n",
              "      <td>232</td>\n",
              "    </tr>\n",
              "    <tr>\n",
              "      <th>7382</th>\n",
              "      <td>VOLVO</td>\n",
              "      <td>XC60 T6 AWD</td>\n",
              "      <td>SUV - SMALL</td>\n",
              "      <td>2.0</td>\n",
              "      <td>4</td>\n",
              "      <td>AS8</td>\n",
              "      <td>Z</td>\n",
              "      <td>11.7</td>\n",
              "      <td>8.6</td>\n",
              "      <td>10.3</td>\n",
              "      <td>27</td>\n",
              "      <td>240</td>\n",
              "    </tr>\n",
              "    <tr>\n",
              "      <th>7383</th>\n",
              "      <td>VOLVO</td>\n",
              "      <td>XC90 T5 AWD</td>\n",
              "      <td>SUV - STANDARD</td>\n",
              "      <td>2.0</td>\n",
              "      <td>4</td>\n",
              "      <td>AS8</td>\n",
              "      <td>Z</td>\n",
              "      <td>11.2</td>\n",
              "      <td>8.3</td>\n",
              "      <td>9.9</td>\n",
              "      <td>29</td>\n",
              "      <td>232</td>\n",
              "    </tr>\n",
              "    <tr>\n",
              "      <th>7384</th>\n",
              "      <td>VOLVO</td>\n",
              "      <td>XC90 T6 AWD</td>\n",
              "      <td>SUV - STANDARD</td>\n",
              "      <td>2.0</td>\n",
              "      <td>4</td>\n",
              "      <td>AS8</td>\n",
              "      <td>Z</td>\n",
              "      <td>12.2</td>\n",
              "      <td>8.7</td>\n",
              "      <td>10.7</td>\n",
              "      <td>26</td>\n",
              "      <td>248</td>\n",
              "    </tr>\n",
              "  </tbody>\n",
              "</table>\n",
              "</div>\n",
              "    <div class=\"colab-df-buttons\">\n",
              "\n",
              "  <div class=\"colab-df-container\">\n",
              "    <button class=\"colab-df-convert\" onclick=\"convertToInteractive('df-3801a6ed-e3b7-4a7d-8dc5-eee9350b5bee')\"\n",
              "            title=\"Convert this dataframe to an interactive table.\"\n",
              "            style=\"display:none;\">\n",
              "\n",
              "  <svg xmlns=\"http://www.w3.org/2000/svg\" height=\"24px\" viewBox=\"0 -960 960 960\">\n",
              "    <path d=\"M120-120v-720h720v720H120Zm60-500h600v-160H180v160Zm220 220h160v-160H400v160Zm0 220h160v-160H400v160ZM180-400h160v-160H180v160Zm440 0h160v-160H620v160ZM180-180h160v-160H180v160Zm440 0h160v-160H620v160Z\"/>\n",
              "  </svg>\n",
              "    </button>\n",
              "\n",
              "  <style>\n",
              "    .colab-df-container {\n",
              "      display:flex;\n",
              "      gap: 12px;\n",
              "    }\n",
              "\n",
              "    .colab-df-convert {\n",
              "      background-color: #E8F0FE;\n",
              "      border: none;\n",
              "      border-radius: 50%;\n",
              "      cursor: pointer;\n",
              "      display: none;\n",
              "      fill: #1967D2;\n",
              "      height: 32px;\n",
              "      padding: 0 0 0 0;\n",
              "      width: 32px;\n",
              "    }\n",
              "\n",
              "    .colab-df-convert:hover {\n",
              "      background-color: #E2EBFA;\n",
              "      box-shadow: 0px 1px 2px rgba(60, 64, 67, 0.3), 0px 1px 3px 1px rgba(60, 64, 67, 0.15);\n",
              "      fill: #174EA6;\n",
              "    }\n",
              "\n",
              "    .colab-df-buttons div {\n",
              "      margin-bottom: 4px;\n",
              "    }\n",
              "\n",
              "    [theme=dark] .colab-df-convert {\n",
              "      background-color: #3B4455;\n",
              "      fill: #D2E3FC;\n",
              "    }\n",
              "\n",
              "    [theme=dark] .colab-df-convert:hover {\n",
              "      background-color: #434B5C;\n",
              "      box-shadow: 0px 1px 3px 1px rgba(0, 0, 0, 0.15);\n",
              "      filter: drop-shadow(0px 1px 2px rgba(0, 0, 0, 0.3));\n",
              "      fill: #FFFFFF;\n",
              "    }\n",
              "  </style>\n",
              "\n",
              "    <script>\n",
              "      const buttonEl =\n",
              "        document.querySelector('#df-3801a6ed-e3b7-4a7d-8dc5-eee9350b5bee button.colab-df-convert');\n",
              "      buttonEl.style.display =\n",
              "        google.colab.kernel.accessAllowed ? 'block' : 'none';\n",
              "\n",
              "      async function convertToInteractive(key) {\n",
              "        const element = document.querySelector('#df-3801a6ed-e3b7-4a7d-8dc5-eee9350b5bee');\n",
              "        const dataTable =\n",
              "          await google.colab.kernel.invokeFunction('convertToInteractive',\n",
              "                                                    [key], {});\n",
              "        if (!dataTable) return;\n",
              "\n",
              "        const docLinkHtml = 'Like what you see? Visit the ' +\n",
              "          '<a target=\"_blank\" href=https://colab.research.google.com/notebooks/data_table.ipynb>data table notebook</a>'\n",
              "          + ' to learn more about interactive tables.';\n",
              "        element.innerHTML = '';\n",
              "        dataTable['output_type'] = 'display_data';\n",
              "        await google.colab.output.renderOutput(dataTable, element);\n",
              "        const docLink = document.createElement('div');\n",
              "        docLink.innerHTML = docLinkHtml;\n",
              "        element.appendChild(docLink);\n",
              "      }\n",
              "    </script>\n",
              "  </div>\n",
              "\n",
              "\n",
              "<div id=\"df-758776aa-60d1-4472-a314-78208a464c7d\">\n",
              "  <button class=\"colab-df-quickchart\" onclick=\"quickchart('df-758776aa-60d1-4472-a314-78208a464c7d')\"\n",
              "            title=\"Suggest charts.\"\n",
              "            style=\"display:none;\">\n",
              "\n",
              "<svg xmlns=\"http://www.w3.org/2000/svg\" height=\"24px\"viewBox=\"0 0 24 24\"\n",
              "     width=\"24px\">\n",
              "    <g>\n",
              "        <path d=\"M19 3H5c-1.1 0-2 .9-2 2v14c0 1.1.9 2 2 2h14c1.1 0 2-.9 2-2V5c0-1.1-.9-2-2-2zM9 17H7v-7h2v7zm4 0h-2V7h2v10zm4 0h-2v-4h2v4z\"/>\n",
              "    </g>\n",
              "</svg>\n",
              "  </button>\n",
              "\n",
              "<style>\n",
              "  .colab-df-quickchart {\n",
              "      --bg-color: #E8F0FE;\n",
              "      --fill-color: #1967D2;\n",
              "      --hover-bg-color: #E2EBFA;\n",
              "      --hover-fill-color: #174EA6;\n",
              "      --disabled-fill-color: #AAA;\n",
              "      --disabled-bg-color: #DDD;\n",
              "  }\n",
              "\n",
              "  [theme=dark] .colab-df-quickchart {\n",
              "      --bg-color: #3B4455;\n",
              "      --fill-color: #D2E3FC;\n",
              "      --hover-bg-color: #434B5C;\n",
              "      --hover-fill-color: #FFFFFF;\n",
              "      --disabled-bg-color: #3B4455;\n",
              "      --disabled-fill-color: #666;\n",
              "  }\n",
              "\n",
              "  .colab-df-quickchart {\n",
              "    background-color: var(--bg-color);\n",
              "    border: none;\n",
              "    border-radius: 50%;\n",
              "    cursor: pointer;\n",
              "    display: none;\n",
              "    fill: var(--fill-color);\n",
              "    height: 32px;\n",
              "    padding: 0;\n",
              "    width: 32px;\n",
              "  }\n",
              "\n",
              "  .colab-df-quickchart:hover {\n",
              "    background-color: var(--hover-bg-color);\n",
              "    box-shadow: 0 1px 2px rgba(60, 64, 67, 0.3), 0 1px 3px 1px rgba(60, 64, 67, 0.15);\n",
              "    fill: var(--button-hover-fill-color);\n",
              "  }\n",
              "\n",
              "  .colab-df-quickchart-complete:disabled,\n",
              "  .colab-df-quickchart-complete:disabled:hover {\n",
              "    background-color: var(--disabled-bg-color);\n",
              "    fill: var(--disabled-fill-color);\n",
              "    box-shadow: none;\n",
              "  }\n",
              "\n",
              "  .colab-df-spinner {\n",
              "    border: 2px solid var(--fill-color);\n",
              "    border-color: transparent;\n",
              "    border-bottom-color: var(--fill-color);\n",
              "    animation:\n",
              "      spin 1s steps(1) infinite;\n",
              "  }\n",
              "\n",
              "  @keyframes spin {\n",
              "    0% {\n",
              "      border-color: transparent;\n",
              "      border-bottom-color: var(--fill-color);\n",
              "      border-left-color: var(--fill-color);\n",
              "    }\n",
              "    20% {\n",
              "      border-color: transparent;\n",
              "      border-left-color: var(--fill-color);\n",
              "      border-top-color: var(--fill-color);\n",
              "    }\n",
              "    30% {\n",
              "      border-color: transparent;\n",
              "      border-left-color: var(--fill-color);\n",
              "      border-top-color: var(--fill-color);\n",
              "      border-right-color: var(--fill-color);\n",
              "    }\n",
              "    40% {\n",
              "      border-color: transparent;\n",
              "      border-right-color: var(--fill-color);\n",
              "      border-top-color: var(--fill-color);\n",
              "    }\n",
              "    60% {\n",
              "      border-color: transparent;\n",
              "      border-right-color: var(--fill-color);\n",
              "    }\n",
              "    80% {\n",
              "      border-color: transparent;\n",
              "      border-right-color: var(--fill-color);\n",
              "      border-bottom-color: var(--fill-color);\n",
              "    }\n",
              "    90% {\n",
              "      border-color: transparent;\n",
              "      border-bottom-color: var(--fill-color);\n",
              "    }\n",
              "  }\n",
              "</style>\n",
              "\n",
              "  <script>\n",
              "    async function quickchart(key) {\n",
              "      const quickchartButtonEl =\n",
              "        document.querySelector('#' + key + ' button');\n",
              "      quickchartButtonEl.disabled = true;  // To prevent multiple clicks.\n",
              "      quickchartButtonEl.classList.add('colab-df-spinner');\n",
              "      try {\n",
              "        const charts = await google.colab.kernel.invokeFunction(\n",
              "            'suggestCharts', [key], {});\n",
              "      } catch (error) {\n",
              "        console.error('Error during call to suggestCharts:', error);\n",
              "      }\n",
              "      quickchartButtonEl.classList.remove('colab-df-spinner');\n",
              "      quickchartButtonEl.classList.add('colab-df-quickchart-complete');\n",
              "    }\n",
              "    (() => {\n",
              "      let quickchartButtonEl =\n",
              "        document.querySelector('#df-758776aa-60d1-4472-a314-78208a464c7d button');\n",
              "      quickchartButtonEl.style.display =\n",
              "        google.colab.kernel.accessAllowed ? 'block' : 'none';\n",
              "    })();\n",
              "  </script>\n",
              "</div>\n",
              "    </div>\n",
              "  </div>\n"
            ],
            "text/plain": [
              "       Make        Model   Vehicle Class  Engine Size(L)  Cylinders  \\\n",
              "7380  VOLVO  XC40 T5 AWD     SUV - SMALL             2.0          4   \n",
              "7381  VOLVO  XC60 T5 AWD     SUV - SMALL             2.0          4   \n",
              "7382  VOLVO  XC60 T6 AWD     SUV - SMALL             2.0          4   \n",
              "7383  VOLVO  XC90 T5 AWD  SUV - STANDARD             2.0          4   \n",
              "7384  VOLVO  XC90 T6 AWD  SUV - STANDARD             2.0          4   \n",
              "\n",
              "     Transmission Fuel Type  Fuel Consumption City (L/100 km)  \\\n",
              "7380          AS8         Z                              10.7   \n",
              "7381          AS8         Z                              11.2   \n",
              "7382          AS8         Z                              11.7   \n",
              "7383          AS8         Z                              11.2   \n",
              "7384          AS8         Z                              12.2   \n",
              "\n",
              "      Fuel Consumption Hwy (L/100 km)  Fuel Consumption Comb (L/100 km)  \\\n",
              "7380                              7.7                               9.4   \n",
              "7381                              8.3                               9.9   \n",
              "7382                              8.6                              10.3   \n",
              "7383                              8.3                               9.9   \n",
              "7384                              8.7                              10.7   \n",
              "\n",
              "      Fuel Consumption Comb (mpg)  CO2 Emissions(g/km)  \n",
              "7380                           30                  219  \n",
              "7381                           29                  232  \n",
              "7382                           27                  240  \n",
              "7383                           29                  232  \n",
              "7384                           26                  248  "
            ]
          },
          "execution_count": 84,
          "metadata": {},
          "output_type": "execute_result"
        }
      ],
      "source": [
        "df.tail()"
      ]
    },
    {
      "cell_type": "code",
      "execution_count": null,
      "metadata": {
        "colab": {
          "base_uri": "https://localhost:8080/"
        },
        "id": "zI4bIVUkFI-u",
        "outputId": "eebc77a6-9552-493f-ad9b-af9ac00d6132"
      },
      "outputs": [
        {
          "data": {
            "text/plain": [
              "(7385, 12)"
            ]
          },
          "execution_count": 85,
          "metadata": {},
          "output_type": "execute_result"
        }
      ],
      "source": [
        "df.shape"
      ]
    },
    {
      "cell_type": "code",
      "execution_count": null,
      "metadata": {
        "colab": {
          "base_uri": "https://localhost:8080/"
        },
        "id": "tY-EvKG0FNFx",
        "outputId": "a9cf1e30-f7a2-44b5-f11e-b6dcea15d91b"
      },
      "outputs": [
        {
          "data": {
            "text/plain": [
              "Index(['Make', 'Model', 'Vehicle Class', 'Engine Size(L)', 'Cylinders',\n",
              "       'Transmission', 'Fuel Type', 'Fuel Consumption City (L/100 km)',\n",
              "       'Fuel Consumption Hwy (L/100 km)', 'Fuel Consumption Comb (L/100 km)',\n",
              "       'Fuel Consumption Comb (mpg)', 'CO2 Emissions(g/km)'],\n",
              "      dtype='object')"
            ]
          },
          "execution_count": 86,
          "metadata": {},
          "output_type": "execute_result"
        }
      ],
      "source": [
        "df.columns"
      ]
    },
    {
      "cell_type": "markdown",
      "metadata": {
        "id": "VdZeZvGzQjmc"
      },
      "source": [
        "The columns of this dataset are\n",
        "\n",
        "*    Model\n",
        "*    Make\n",
        "*Engine Size(L)\n",
        "*Cylinders\n",
        "*Fuel Type\n",
        "*Fuel Consumption City (L/100 km)\n",
        "*Fuel Consumption Hwy (L/100 km)\n",
        "*Fuel Consumption Comb (mpg and L/100 km)\n",
        "*Vehicle class\n",
        "*Transmission"
      ]
    },
    {
      "cell_type": "code",
      "execution_count": null,
      "metadata": {
        "colab": {
          "base_uri": "https://localhost:8080/"
        },
        "id": "u56nrvzvFx7k",
        "outputId": "6a4ddf72-2721-4f2b-e2a7-e21d9178f76e"
      },
      "outputs": [
        {
          "data": {
            "text/plain": [
              "1103"
            ]
          },
          "execution_count": 87,
          "metadata": {},
          "output_type": "execute_result"
        }
      ],
      "source": [
        "df.duplicated().sum()"
      ]
    },
    {
      "cell_type": "markdown",
      "metadata": {
        "id": "tv8d_hijKjwL"
      },
      "source": [
        "There are 1103 duplicate rows in the data frame"
      ]
    },
    {
      "cell_type": "code",
      "execution_count": null,
      "metadata": {
        "colab": {
          "base_uri": "https://localhost:8080/"
        },
        "id": "dxfeLAsQGq5v",
        "outputId": "9fc3ad7b-9cc3-4376-d76f-f2e855f206aa"
      },
      "outputs": [
        {
          "data": {
            "text/plain": [
              "Make                                 object\n",
              "Model                                object\n",
              "Vehicle Class                        object\n",
              "Engine Size(L)                      float64\n",
              "Cylinders                             int64\n",
              "Transmission                         object\n",
              "Fuel Type                            object\n",
              "Fuel Consumption City (L/100 km)    float64\n",
              "Fuel Consumption Hwy (L/100 km)     float64\n",
              "Fuel Consumption Comb (L/100 km)    float64\n",
              "Fuel Consumption Comb (mpg)           int64\n",
              "CO2 Emissions(g/km)                   int64\n",
              "dtype: object"
            ]
          },
          "execution_count": 88,
          "metadata": {},
          "output_type": "execute_result"
        }
      ],
      "source": [
        "df.dtypes"
      ]
    },
    {
      "cell_type": "code",
      "execution_count": null,
      "metadata": {
        "colab": {
          "base_uri": "https://localhost:8080/"
        },
        "id": "TQYfB_hhIG3G",
        "outputId": "46a96aff-05e8-452e-fe39-535f8680470e"
      },
      "outputs": [
        {
          "data": {
            "text/plain": [
              "2053"
            ]
          },
          "execution_count": 89,
          "metadata": {},
          "output_type": "execute_result"
        }
      ],
      "source": [
        "len(np.unique(df[\"Model\"]))"
      ]
    },
    {
      "cell_type": "markdown",
      "metadata": {
        "id": "uyUdrTImK2Op"
      },
      "source": [
        "There are 2053 unique models in the dataset so it is not so useful."
      ]
    },
    {
      "cell_type": "code",
      "execution_count": null,
      "metadata": {
        "colab": {
          "base_uri": "https://localhost:8080/"
        },
        "id": "6D3zC8LkRuu3",
        "outputId": "f92ae618-0ad6-44c1-c567-2ac997e1a73a"
      },
      "outputs": [
        {
          "data": {
            "text/plain": [
              "array(['A10', 'A4', 'A5', 'A6', 'A7', 'A8', 'A9', 'AM5', 'AM6', 'AM7',\n",
              "       'AM8', 'AM9', 'AS10', 'AS4', 'AS5', 'AS6', 'AS7', 'AS8', 'AS9',\n",
              "       'AV', 'AV10', 'AV6', 'AV7', 'AV8', 'M5', 'M6', 'M7'], dtype=object)"
            ]
          },
          "execution_count": 90,
          "metadata": {},
          "output_type": "execute_result"
        }
      ],
      "source": [
        "np.unique(df[\"Transmission\"])"
      ]
    },
    {
      "cell_type": "code",
      "execution_count": null,
      "metadata": {
        "colab": {
          "base_uri": "https://localhost:8080/"
        },
        "id": "2gNwwmGqSMfl",
        "outputId": "e043582e-984a-4bb5-8c0e-9a1cb2c44e06"
      },
      "outputs": [
        {
          "data": {
            "text/plain": [
              "array(['COMPACT', 'FULL-SIZE', 'MID-SIZE', 'MINICOMPACT', 'MINIVAN',\n",
              "       'PICKUP TRUCK - SMALL', 'PICKUP TRUCK - STANDARD',\n",
              "       'SPECIAL PURPOSE VEHICLE', 'STATION WAGON - MID-SIZE',\n",
              "       'STATION WAGON - SMALL', 'SUBCOMPACT', 'SUV - SMALL',\n",
              "       'SUV - STANDARD', 'TWO-SEATER', 'VAN - CARGO', 'VAN - PASSENGER'],\n",
              "      dtype=object)"
            ]
          },
          "execution_count": 91,
          "metadata": {},
          "output_type": "execute_result"
        }
      ],
      "source": [
        "np.unique(df[\"Vehicle Class\"])"
      ]
    },
    {
      "cell_type": "code",
      "execution_count": null,
      "metadata": {
        "colab": {
          "base_uri": "https://localhost:8080/"
        },
        "id": "AUuWNwfGSb_G",
        "outputId": "e49b2a6d-1206-411c-df01-92d549414ba2"
      },
      "outputs": [
        {
          "data": {
            "text/plain": [
              "array(['D', 'E', 'N', 'X', 'Z'], dtype=object)"
            ]
          },
          "execution_count": 92,
          "metadata": {},
          "output_type": "execute_result"
        }
      ],
      "source": [
        "np.unique(df[\"Fuel Type\"])"
      ]
    },
    {
      "cell_type": "code",
      "execution_count": null,
      "metadata": {
        "colab": {
          "base_uri": "https://localhost:8080/"
        },
        "id": "bn5-2NYBSz6y",
        "outputId": "cb617592-e44d-4851-92c7-1360f7b2d0e0"
      },
      "outputs": [
        {
          "data": {
            "text/plain": [
              "array(['ACURA', 'ALFA ROMEO', 'ASTON MARTIN', 'AUDI', 'BENTLEY', 'BMW',\n",
              "       'BUGATTI', 'BUICK', 'CADILLAC', 'CHEVROLET', 'CHRYSLER', 'DODGE',\n",
              "       'FIAT', 'FORD', 'GENESIS', 'GMC', 'HONDA', 'HYUNDAI', 'INFINITI',\n",
              "       'JAGUAR', 'JEEP', 'KIA', 'LAMBORGHINI', 'LAND ROVER', 'LEXUS',\n",
              "       'LINCOLN', 'MASERATI', 'MAZDA', 'MERCEDES-BENZ', 'MINI',\n",
              "       'MITSUBISHI', 'NISSAN', 'PORSCHE', 'RAM', 'ROLLS-ROYCE', 'SCION',\n",
              "       'SMART', 'SRT', 'SUBARU', 'TOYOTA', 'VOLKSWAGEN', 'VOLVO'],\n",
              "      dtype=object)"
            ]
          },
          "execution_count": 93,
          "metadata": {},
          "output_type": "execute_result"
        }
      ],
      "source": [
        "np.unique(df[\"Make\"])\n"
      ]
    },
    {
      "cell_type": "markdown",
      "metadata": {
        "id": "GBt8FE2ERuUq"
      },
      "source": [
        "There are 42 makers"
      ]
    },
    {
      "cell_type": "code",
      "execution_count": null,
      "metadata": {
        "colab": {
          "base_uri": "https://localhost:8080/"
        },
        "id": "fGm4muo_KHQ5",
        "outputId": "8d14d242-3d61-4c8e-a71d-b698a0d7694c"
      },
      "outputs": [
        {
          "data": {
            "text/plain": [
              "Make                                0\n",
              "Model                               0\n",
              "Vehicle Class                       0\n",
              "Engine Size(L)                      0\n",
              "Cylinders                           0\n",
              "Transmission                        0\n",
              "Fuel Type                           0\n",
              "Fuel Consumption City (L/100 km)    0\n",
              "Fuel Consumption Hwy (L/100 km)     0\n",
              "Fuel Consumption Comb (L/100 km)    0\n",
              "Fuel Consumption Comb (mpg)         0\n",
              "CO2 Emissions(g/km)                 0\n",
              "dtype: int64"
            ]
          },
          "execution_count": 94,
          "metadata": {},
          "output_type": "execute_result"
        }
      ],
      "source": [
        "df.isnull().sum()"
      ]
    },
    {
      "cell_type": "markdown",
      "metadata": {
        "id": "KBWiRbedLGAU"
      },
      "source": [
        "No null values are present in the dataset."
      ]
    },
    {
      "cell_type": "code",
      "execution_count": null,
      "metadata": {
        "colab": {
          "base_uri": "https://localhost:8080/",
          "height": 269
        },
        "id": "8X7KP9ymJ4pI",
        "outputId": "53d54aa7-67af-4d5f-cc87-55ba9b247240"
      },
      "outputs": [
        {
          "data": {
            "text/html": [
              "\n",
              "  <div id=\"df-71c7f702-6532-4e03-9612-55f4ce31a608\" class=\"colab-df-container\">\n",
              "    <div>\n",
              "<style scoped>\n",
              "    .dataframe tbody tr th:only-of-type {\n",
              "        vertical-align: middle;\n",
              "    }\n",
              "\n",
              "    .dataframe tbody tr th {\n",
              "        vertical-align: top;\n",
              "    }\n",
              "\n",
              "    .dataframe thead th {\n",
              "        text-align: right;\n",
              "    }\n",
              "</style>\n",
              "<table border=\"1\" class=\"dataframe\">\n",
              "  <thead>\n",
              "    <tr style=\"text-align: right;\">\n",
              "      <th></th>\n",
              "      <th>count</th>\n",
              "      <th>mean</th>\n",
              "      <th>std</th>\n",
              "      <th>min</th>\n",
              "      <th>25%</th>\n",
              "      <th>50%</th>\n",
              "      <th>75%</th>\n",
              "      <th>max</th>\n",
              "    </tr>\n",
              "  </thead>\n",
              "  <tbody>\n",
              "    <tr>\n",
              "      <th>Engine Size(L)</th>\n",
              "      <td>7385.0</td>\n",
              "      <td>3.160068</td>\n",
              "      <td>1.354170</td>\n",
              "      <td>0.9</td>\n",
              "      <td>2.0</td>\n",
              "      <td>3.0</td>\n",
              "      <td>3.7</td>\n",
              "      <td>8.4</td>\n",
              "    </tr>\n",
              "    <tr>\n",
              "      <th>Cylinders</th>\n",
              "      <td>7385.0</td>\n",
              "      <td>5.615030</td>\n",
              "      <td>1.828307</td>\n",
              "      <td>3.0</td>\n",
              "      <td>4.0</td>\n",
              "      <td>6.0</td>\n",
              "      <td>6.0</td>\n",
              "      <td>16.0</td>\n",
              "    </tr>\n",
              "    <tr>\n",
              "      <th>Fuel Consumption City (L/100 km)</th>\n",
              "      <td>7385.0</td>\n",
              "      <td>12.556534</td>\n",
              "      <td>3.500274</td>\n",
              "      <td>4.2</td>\n",
              "      <td>10.1</td>\n",
              "      <td>12.1</td>\n",
              "      <td>14.6</td>\n",
              "      <td>30.6</td>\n",
              "    </tr>\n",
              "    <tr>\n",
              "      <th>Fuel Consumption Hwy (L/100 km)</th>\n",
              "      <td>7385.0</td>\n",
              "      <td>9.041706</td>\n",
              "      <td>2.224456</td>\n",
              "      <td>4.0</td>\n",
              "      <td>7.5</td>\n",
              "      <td>8.7</td>\n",
              "      <td>10.2</td>\n",
              "      <td>20.6</td>\n",
              "    </tr>\n",
              "    <tr>\n",
              "      <th>Fuel Consumption Comb (L/100 km)</th>\n",
              "      <td>7385.0</td>\n",
              "      <td>10.975071</td>\n",
              "      <td>2.892506</td>\n",
              "      <td>4.1</td>\n",
              "      <td>8.9</td>\n",
              "      <td>10.6</td>\n",
              "      <td>12.6</td>\n",
              "      <td>26.1</td>\n",
              "    </tr>\n",
              "    <tr>\n",
              "      <th>Fuel Consumption Comb (mpg)</th>\n",
              "      <td>7385.0</td>\n",
              "      <td>27.481652</td>\n",
              "      <td>7.231879</td>\n",
              "      <td>11.0</td>\n",
              "      <td>22.0</td>\n",
              "      <td>27.0</td>\n",
              "      <td>32.0</td>\n",
              "      <td>69.0</td>\n",
              "    </tr>\n",
              "    <tr>\n",
              "      <th>CO2 Emissions(g/km)</th>\n",
              "      <td>7385.0</td>\n",
              "      <td>250.584699</td>\n",
              "      <td>58.512679</td>\n",
              "      <td>96.0</td>\n",
              "      <td>208.0</td>\n",
              "      <td>246.0</td>\n",
              "      <td>288.0</td>\n",
              "      <td>522.0</td>\n",
              "    </tr>\n",
              "  </tbody>\n",
              "</table>\n",
              "</div>\n",
              "    <div class=\"colab-df-buttons\">\n",
              "\n",
              "  <div class=\"colab-df-container\">\n",
              "    <button class=\"colab-df-convert\" onclick=\"convertToInteractive('df-71c7f702-6532-4e03-9612-55f4ce31a608')\"\n",
              "            title=\"Convert this dataframe to an interactive table.\"\n",
              "            style=\"display:none;\">\n",
              "\n",
              "  <svg xmlns=\"http://www.w3.org/2000/svg\" height=\"24px\" viewBox=\"0 -960 960 960\">\n",
              "    <path d=\"M120-120v-720h720v720H120Zm60-500h600v-160H180v160Zm220 220h160v-160H400v160Zm0 220h160v-160H400v160ZM180-400h160v-160H180v160Zm440 0h160v-160H620v160ZM180-180h160v-160H180v160Zm440 0h160v-160H620v160Z\"/>\n",
              "  </svg>\n",
              "    </button>\n",
              "\n",
              "  <style>\n",
              "    .colab-df-container {\n",
              "      display:flex;\n",
              "      gap: 12px;\n",
              "    }\n",
              "\n",
              "    .colab-df-convert {\n",
              "      background-color: #E8F0FE;\n",
              "      border: none;\n",
              "      border-radius: 50%;\n",
              "      cursor: pointer;\n",
              "      display: none;\n",
              "      fill: #1967D2;\n",
              "      height: 32px;\n",
              "      padding: 0 0 0 0;\n",
              "      width: 32px;\n",
              "    }\n",
              "\n",
              "    .colab-df-convert:hover {\n",
              "      background-color: #E2EBFA;\n",
              "      box-shadow: 0px 1px 2px rgba(60, 64, 67, 0.3), 0px 1px 3px 1px rgba(60, 64, 67, 0.15);\n",
              "      fill: #174EA6;\n",
              "    }\n",
              "\n",
              "    .colab-df-buttons div {\n",
              "      margin-bottom: 4px;\n",
              "    }\n",
              "\n",
              "    [theme=dark] .colab-df-convert {\n",
              "      background-color: #3B4455;\n",
              "      fill: #D2E3FC;\n",
              "    }\n",
              "\n",
              "    [theme=dark] .colab-df-convert:hover {\n",
              "      background-color: #434B5C;\n",
              "      box-shadow: 0px 1px 3px 1px rgba(0, 0, 0, 0.15);\n",
              "      filter: drop-shadow(0px 1px 2px rgba(0, 0, 0, 0.3));\n",
              "      fill: #FFFFFF;\n",
              "    }\n",
              "  </style>\n",
              "\n",
              "    <script>\n",
              "      const buttonEl =\n",
              "        document.querySelector('#df-71c7f702-6532-4e03-9612-55f4ce31a608 button.colab-df-convert');\n",
              "      buttonEl.style.display =\n",
              "        google.colab.kernel.accessAllowed ? 'block' : 'none';\n",
              "\n",
              "      async function convertToInteractive(key) {\n",
              "        const element = document.querySelector('#df-71c7f702-6532-4e03-9612-55f4ce31a608');\n",
              "        const dataTable =\n",
              "          await google.colab.kernel.invokeFunction('convertToInteractive',\n",
              "                                                    [key], {});\n",
              "        if (!dataTable) return;\n",
              "\n",
              "        const docLinkHtml = 'Like what you see? Visit the ' +\n",
              "          '<a target=\"_blank\" href=https://colab.research.google.com/notebooks/data_table.ipynb>data table notebook</a>'\n",
              "          + ' to learn more about interactive tables.';\n",
              "        element.innerHTML = '';\n",
              "        dataTable['output_type'] = 'display_data';\n",
              "        await google.colab.output.renderOutput(dataTable, element);\n",
              "        const docLink = document.createElement('div');\n",
              "        docLink.innerHTML = docLinkHtml;\n",
              "        element.appendChild(docLink);\n",
              "      }\n",
              "    </script>\n",
              "  </div>\n",
              "\n",
              "\n",
              "<div id=\"df-8c427b93-ac03-4b4e-9e10-5e02625aa5f7\">\n",
              "  <button class=\"colab-df-quickchart\" onclick=\"quickchart('df-8c427b93-ac03-4b4e-9e10-5e02625aa5f7')\"\n",
              "            title=\"Suggest charts.\"\n",
              "            style=\"display:none;\">\n",
              "\n",
              "<svg xmlns=\"http://www.w3.org/2000/svg\" height=\"24px\"viewBox=\"0 0 24 24\"\n",
              "     width=\"24px\">\n",
              "    <g>\n",
              "        <path d=\"M19 3H5c-1.1 0-2 .9-2 2v14c0 1.1.9 2 2 2h14c1.1 0 2-.9 2-2V5c0-1.1-.9-2-2-2zM9 17H7v-7h2v7zm4 0h-2V7h2v10zm4 0h-2v-4h2v4z\"/>\n",
              "    </g>\n",
              "</svg>\n",
              "  </button>\n",
              "\n",
              "<style>\n",
              "  .colab-df-quickchart {\n",
              "      --bg-color: #E8F0FE;\n",
              "      --fill-color: #1967D2;\n",
              "      --hover-bg-color: #E2EBFA;\n",
              "      --hover-fill-color: #174EA6;\n",
              "      --disabled-fill-color: #AAA;\n",
              "      --disabled-bg-color: #DDD;\n",
              "  }\n",
              "\n",
              "  [theme=dark] .colab-df-quickchart {\n",
              "      --bg-color: #3B4455;\n",
              "      --fill-color: #D2E3FC;\n",
              "      --hover-bg-color: #434B5C;\n",
              "      --hover-fill-color: #FFFFFF;\n",
              "      --disabled-bg-color: #3B4455;\n",
              "      --disabled-fill-color: #666;\n",
              "  }\n",
              "\n",
              "  .colab-df-quickchart {\n",
              "    background-color: var(--bg-color);\n",
              "    border: none;\n",
              "    border-radius: 50%;\n",
              "    cursor: pointer;\n",
              "    display: none;\n",
              "    fill: var(--fill-color);\n",
              "    height: 32px;\n",
              "    padding: 0;\n",
              "    width: 32px;\n",
              "  }\n",
              "\n",
              "  .colab-df-quickchart:hover {\n",
              "    background-color: var(--hover-bg-color);\n",
              "    box-shadow: 0 1px 2px rgba(60, 64, 67, 0.3), 0 1px 3px 1px rgba(60, 64, 67, 0.15);\n",
              "    fill: var(--button-hover-fill-color);\n",
              "  }\n",
              "\n",
              "  .colab-df-quickchart-complete:disabled,\n",
              "  .colab-df-quickchart-complete:disabled:hover {\n",
              "    background-color: var(--disabled-bg-color);\n",
              "    fill: var(--disabled-fill-color);\n",
              "    box-shadow: none;\n",
              "  }\n",
              "\n",
              "  .colab-df-spinner {\n",
              "    border: 2px solid var(--fill-color);\n",
              "    border-color: transparent;\n",
              "    border-bottom-color: var(--fill-color);\n",
              "    animation:\n",
              "      spin 1s steps(1) infinite;\n",
              "  }\n",
              "\n",
              "  @keyframes spin {\n",
              "    0% {\n",
              "      border-color: transparent;\n",
              "      border-bottom-color: var(--fill-color);\n",
              "      border-left-color: var(--fill-color);\n",
              "    }\n",
              "    20% {\n",
              "      border-color: transparent;\n",
              "      border-left-color: var(--fill-color);\n",
              "      border-top-color: var(--fill-color);\n",
              "    }\n",
              "    30% {\n",
              "      border-color: transparent;\n",
              "      border-left-color: var(--fill-color);\n",
              "      border-top-color: var(--fill-color);\n",
              "      border-right-color: var(--fill-color);\n",
              "    }\n",
              "    40% {\n",
              "      border-color: transparent;\n",
              "      border-right-color: var(--fill-color);\n",
              "      border-top-color: var(--fill-color);\n",
              "    }\n",
              "    60% {\n",
              "      border-color: transparent;\n",
              "      border-right-color: var(--fill-color);\n",
              "    }\n",
              "    80% {\n",
              "      border-color: transparent;\n",
              "      border-right-color: var(--fill-color);\n",
              "      border-bottom-color: var(--fill-color);\n",
              "    }\n",
              "    90% {\n",
              "      border-color: transparent;\n",
              "      border-bottom-color: var(--fill-color);\n",
              "    }\n",
              "  }\n",
              "</style>\n",
              "\n",
              "  <script>\n",
              "    async function quickchart(key) {\n",
              "      const quickchartButtonEl =\n",
              "        document.querySelector('#' + key + ' button');\n",
              "      quickchartButtonEl.disabled = true;  // To prevent multiple clicks.\n",
              "      quickchartButtonEl.classList.add('colab-df-spinner');\n",
              "      try {\n",
              "        const charts = await google.colab.kernel.invokeFunction(\n",
              "            'suggestCharts', [key], {});\n",
              "      } catch (error) {\n",
              "        console.error('Error during call to suggestCharts:', error);\n",
              "      }\n",
              "      quickchartButtonEl.classList.remove('colab-df-spinner');\n",
              "      quickchartButtonEl.classList.add('colab-df-quickchart-complete');\n",
              "    }\n",
              "    (() => {\n",
              "      let quickchartButtonEl =\n",
              "        document.querySelector('#df-8c427b93-ac03-4b4e-9e10-5e02625aa5f7 button');\n",
              "      quickchartButtonEl.style.display =\n",
              "        google.colab.kernel.accessAllowed ? 'block' : 'none';\n",
              "    })();\n",
              "  </script>\n",
              "</div>\n",
              "    </div>\n",
              "  </div>\n"
            ],
            "text/plain": [
              "                                   count        mean        std   min    25%  \\\n",
              "Engine Size(L)                    7385.0    3.160068   1.354170   0.9    2.0   \n",
              "Cylinders                         7385.0    5.615030   1.828307   3.0    4.0   \n",
              "Fuel Consumption City (L/100 km)  7385.0   12.556534   3.500274   4.2   10.1   \n",
              "Fuel Consumption Hwy (L/100 km)   7385.0    9.041706   2.224456   4.0    7.5   \n",
              "Fuel Consumption Comb (L/100 km)  7385.0   10.975071   2.892506   4.1    8.9   \n",
              "Fuel Consumption Comb (mpg)       7385.0   27.481652   7.231879  11.0   22.0   \n",
              "CO2 Emissions(g/km)               7385.0  250.584699  58.512679  96.0  208.0   \n",
              "\n",
              "                                    50%    75%    max  \n",
              "Engine Size(L)                      3.0    3.7    8.4  \n",
              "Cylinders                           6.0    6.0   16.0  \n",
              "Fuel Consumption City (L/100 km)   12.1   14.6   30.6  \n",
              "Fuel Consumption Hwy (L/100 km)     8.7   10.2   20.6  \n",
              "Fuel Consumption Comb (L/100 km)   10.6   12.6   26.1  \n",
              "Fuel Consumption Comb (mpg)        27.0   32.0   69.0  \n",
              "CO2 Emissions(g/km)               246.0  288.0  522.0  "
            ]
          },
          "execution_count": 95,
          "metadata": {},
          "output_type": "execute_result"
        }
      ],
      "source": [
        "df.describe().transpose()"
      ]
    },
    {
      "cell_type": "markdown",
      "metadata": {
        "id": "hylr5rPkLMuM"
      },
      "source": [
        "\n",
        "\n",
        "*   Engine size is under 3.7 for 75% cars and 50% car engines lie in 2 - 3.7 L.\n",
        "*   Average no. of cylinders is 6.\n",
        "*   Average fuel consumption (city) is around 12.5 L per 100 km and on (Hwy) is around 9 L per 100 KM  which is lower than cities.\n",
        "*   Average fuel consumtion for combined (55% city and 45% highway) is around 11 L per 100 KM.\n",
        "*   Combined average is around 27 (miles per gallon ).\n",
        "*    Average carbon emission by cars is 250.58 g/km.\n",
        "###Limitation in data\n",
        "Since data is observed for 7 years during which, technology can change rapidly which can influence our interpretation and prediction.\n",
        "\n"
      ]
    },
    {
      "cell_type": "markdown",
      "metadata": {
        "id": "CvFaM43DU3EF"
      },
      "source": [
        "### Creating Copy Of the Dataframe\n",
        "so that any changes in df are not reflected in original dataframe"
      ]
    },
    {
      "cell_type": "code",
      "execution_count": null,
      "metadata": {
        "id": "W-mQ_OzvPXZm"
      },
      "outputs": [],
      "source": [
        "df1 = df.copy(deep=True)"
      ]
    },
    {
      "cell_type": "code",
      "execution_count": null,
      "metadata": {
        "id": "firvp3uKVua5"
      },
      "outputs": [],
      "source": [
        "# renaming the columns to avoid gaps in name\n",
        "df1.rename(columns={'Vehicle Class':'Vehicle_Class' ,\n",
        "                    'Engine Size(L)' : 'Eng_Size' ,\n",
        "                    'Fuel Type':'Fuel_Type',\n",
        "                    'Fuel Consumption City (L/100 km)': 'fuel_cons_city',\n",
        "                    'Fuel Consumption Hwy (L/100 km)': 'fuel_cons_hwy',\n",
        "                    'Fuel Consumption Comb (L/100 km)': 'fuel_cons_comb',\n",
        "                    'Fuel Consumption Comb (mpg)': 'mpgfuel_cons_comb',\n",
        "                    'CO2 Emissions(g/km)': 'co2'\n",
        "                    },\n",
        "           inplace = True)"
      ]
    },
    {
      "cell_type": "code",
      "execution_count": null,
      "metadata": {
        "colab": {
          "base_uri": "https://localhost:8080/"
        },
        "id": "VMkLij33YAZ8",
        "outputId": "d556fc6e-4f8e-438d-8b64-5daf21a15f7e"
      },
      "outputs": [
        {
          "data": {
            "text/plain": [
              "Index(['Make', 'Model', 'Vehicle_Class', 'Eng_Size', 'Cylinders',\n",
              "       'Transmission', 'Fuel_Type', 'fuel_cons_city', 'fuel_cons_hwy',\n",
              "       'fuel_cons_comb', 'mpgfuel_cons_comb', 'co2'],\n",
              "      dtype='object')"
            ]
          },
          "execution_count": 98,
          "metadata": {},
          "output_type": "execute_result"
        }
      ],
      "source": [
        "df1.keys()"
      ]
    },
    {
      "cell_type": "markdown",
      "metadata": {
        "id": "QkLnsdlyYFjK"
      },
      "source": [
        "## Manipuation on Data\n"
      ]
    },
    {
      "cell_type": "code",
      "execution_count": null,
      "metadata": {
        "id": "ZChPDigmrOB1"
      },
      "outputs": [],
      "source": [
        "df1 = df1.drop_duplicates()"
      ]
    },
    {
      "cell_type": "code",
      "execution_count": null,
      "metadata": {
        "colab": {
          "base_uri": "https://localhost:8080/"
        },
        "id": "QWiVlnMyskCV",
        "outputId": "22cc5642-874e-47e9-cf87-8a5654c07615"
      },
      "outputs": [
        {
          "data": {
            "text/html": [
              "\n",
              "  <div id=\"df-a2e75648-5a43-4ab8-bd1a-d9b0f1229a86\" class=\"colab-df-container\">\n",
              "    <div>\n",
              "<style scoped>\n",
              "    .dataframe tbody tr th:only-of-type {\n",
              "        vertical-align: middle;\n",
              "    }\n",
              "\n",
              "    .dataframe tbody tr th {\n",
              "        vertical-align: top;\n",
              "    }\n",
              "\n",
              "    .dataframe thead th {\n",
              "        text-align: right;\n",
              "    }\n",
              "</style>\n",
              "<table border=\"1\" class=\"dataframe\">\n",
              "  <thead>\n",
              "    <tr style=\"text-align: right;\">\n",
              "      <th></th>\n",
              "      <th>Make</th>\n",
              "      <th>Model</th>\n",
              "      <th>Vehicle_Class</th>\n",
              "      <th>Eng_Size</th>\n",
              "      <th>Cylinders</th>\n",
              "      <th>Transmission</th>\n",
              "      <th>Fuel_Type</th>\n",
              "      <th>fuel_cons_city</th>\n",
              "      <th>fuel_cons_hwy</th>\n",
              "      <th>fuel_cons_comb</th>\n",
              "      <th>mpgfuel_cons_comb</th>\n",
              "      <th>co2</th>\n",
              "    </tr>\n",
              "  </thead>\n",
              "  <tbody>\n",
              "    <tr>\n",
              "      <th>0</th>\n",
              "      <td>ACURA</td>\n",
              "      <td>ILX</td>\n",
              "      <td>COMPACT</td>\n",
              "      <td>2.0</td>\n",
              "      <td>4</td>\n",
              "      <td>AS5</td>\n",
              "      <td>Z</td>\n",
              "      <td>9.9</td>\n",
              "      <td>6.7</td>\n",
              "      <td>8.5</td>\n",
              "      <td>33</td>\n",
              "      <td>196</td>\n",
              "    </tr>\n",
              "    <tr>\n",
              "      <th>1</th>\n",
              "      <td>ACURA</td>\n",
              "      <td>ILX</td>\n",
              "      <td>COMPACT</td>\n",
              "      <td>2.4</td>\n",
              "      <td>4</td>\n",
              "      <td>M6</td>\n",
              "      <td>Z</td>\n",
              "      <td>11.2</td>\n",
              "      <td>7.7</td>\n",
              "      <td>9.6</td>\n",
              "      <td>29</td>\n",
              "      <td>221</td>\n",
              "    </tr>\n",
              "    <tr>\n",
              "      <th>2</th>\n",
              "      <td>ACURA</td>\n",
              "      <td>ILX HYBRID</td>\n",
              "      <td>COMPACT</td>\n",
              "      <td>1.5</td>\n",
              "      <td>4</td>\n",
              "      <td>AV7</td>\n",
              "      <td>Z</td>\n",
              "      <td>6.0</td>\n",
              "      <td>5.8</td>\n",
              "      <td>5.9</td>\n",
              "      <td>48</td>\n",
              "      <td>136</td>\n",
              "    </tr>\n",
              "    <tr>\n",
              "      <th>3</th>\n",
              "      <td>ACURA</td>\n",
              "      <td>MDX 4WD</td>\n",
              "      <td>SUV - SMALL</td>\n",
              "      <td>3.5</td>\n",
              "      <td>6</td>\n",
              "      <td>AS6</td>\n",
              "      <td>Z</td>\n",
              "      <td>12.7</td>\n",
              "      <td>9.1</td>\n",
              "      <td>11.1</td>\n",
              "      <td>25</td>\n",
              "      <td>255</td>\n",
              "    </tr>\n",
              "    <tr>\n",
              "      <th>4</th>\n",
              "      <td>ACURA</td>\n",
              "      <td>RDX AWD</td>\n",
              "      <td>SUV - SMALL</td>\n",
              "      <td>3.5</td>\n",
              "      <td>6</td>\n",
              "      <td>AS6</td>\n",
              "      <td>Z</td>\n",
              "      <td>12.1</td>\n",
              "      <td>8.7</td>\n",
              "      <td>10.6</td>\n",
              "      <td>27</td>\n",
              "      <td>244</td>\n",
              "    </tr>\n",
              "    <tr>\n",
              "      <th>...</th>\n",
              "      <td>...</td>\n",
              "      <td>...</td>\n",
              "      <td>...</td>\n",
              "      <td>...</td>\n",
              "      <td>...</td>\n",
              "      <td>...</td>\n",
              "      <td>...</td>\n",
              "      <td>...</td>\n",
              "      <td>...</td>\n",
              "      <td>...</td>\n",
              "      <td>...</td>\n",
              "      <td>...</td>\n",
              "    </tr>\n",
              "    <tr>\n",
              "      <th>7380</th>\n",
              "      <td>VOLVO</td>\n",
              "      <td>XC40 T5 AWD</td>\n",
              "      <td>SUV - SMALL</td>\n",
              "      <td>2.0</td>\n",
              "      <td>4</td>\n",
              "      <td>AS8</td>\n",
              "      <td>Z</td>\n",
              "      <td>10.7</td>\n",
              "      <td>7.7</td>\n",
              "      <td>9.4</td>\n",
              "      <td>30</td>\n",
              "      <td>219</td>\n",
              "    </tr>\n",
              "    <tr>\n",
              "      <th>7381</th>\n",
              "      <td>VOLVO</td>\n",
              "      <td>XC60 T5 AWD</td>\n",
              "      <td>SUV - SMALL</td>\n",
              "      <td>2.0</td>\n",
              "      <td>4</td>\n",
              "      <td>AS8</td>\n",
              "      <td>Z</td>\n",
              "      <td>11.2</td>\n",
              "      <td>8.3</td>\n",
              "      <td>9.9</td>\n",
              "      <td>29</td>\n",
              "      <td>232</td>\n",
              "    </tr>\n",
              "    <tr>\n",
              "      <th>7382</th>\n",
              "      <td>VOLVO</td>\n",
              "      <td>XC60 T6 AWD</td>\n",
              "      <td>SUV - SMALL</td>\n",
              "      <td>2.0</td>\n",
              "      <td>4</td>\n",
              "      <td>AS8</td>\n",
              "      <td>Z</td>\n",
              "      <td>11.7</td>\n",
              "      <td>8.6</td>\n",
              "      <td>10.3</td>\n",
              "      <td>27</td>\n",
              "      <td>240</td>\n",
              "    </tr>\n",
              "    <tr>\n",
              "      <th>7383</th>\n",
              "      <td>VOLVO</td>\n",
              "      <td>XC90 T5 AWD</td>\n",
              "      <td>SUV - STANDARD</td>\n",
              "      <td>2.0</td>\n",
              "      <td>4</td>\n",
              "      <td>AS8</td>\n",
              "      <td>Z</td>\n",
              "      <td>11.2</td>\n",
              "      <td>8.3</td>\n",
              "      <td>9.9</td>\n",
              "      <td>29</td>\n",
              "      <td>232</td>\n",
              "    </tr>\n",
              "    <tr>\n",
              "      <th>7384</th>\n",
              "      <td>VOLVO</td>\n",
              "      <td>XC90 T6 AWD</td>\n",
              "      <td>SUV - STANDARD</td>\n",
              "      <td>2.0</td>\n",
              "      <td>4</td>\n",
              "      <td>AS8</td>\n",
              "      <td>Z</td>\n",
              "      <td>12.2</td>\n",
              "      <td>8.7</td>\n",
              "      <td>10.7</td>\n",
              "      <td>26</td>\n",
              "      <td>248</td>\n",
              "    </tr>\n",
              "  </tbody>\n",
              "</table>\n",
              "<p>6282 rows × 12 columns</p>\n",
              "</div>\n",
              "    <div class=\"colab-df-buttons\">\n",
              "\n",
              "  <div class=\"colab-df-container\">\n",
              "    <button class=\"colab-df-convert\" onclick=\"convertToInteractive('df-a2e75648-5a43-4ab8-bd1a-d9b0f1229a86')\"\n",
              "            title=\"Convert this dataframe to an interactive table.\"\n",
              "            style=\"display:none;\">\n",
              "\n",
              "  <svg xmlns=\"http://www.w3.org/2000/svg\" height=\"24px\" viewBox=\"0 -960 960 960\">\n",
              "    <path d=\"M120-120v-720h720v720H120Zm60-500h600v-160H180v160Zm220 220h160v-160H400v160Zm0 220h160v-160H400v160ZM180-400h160v-160H180v160Zm440 0h160v-160H620v160ZM180-180h160v-160H180v160Zm440 0h160v-160H620v160Z\"/>\n",
              "  </svg>\n",
              "    </button>\n",
              "\n",
              "  <style>\n",
              "    .colab-df-container {\n",
              "      display:flex;\n",
              "      gap: 12px;\n",
              "    }\n",
              "\n",
              "    .colab-df-convert {\n",
              "      background-color: #E8F0FE;\n",
              "      border: none;\n",
              "      border-radius: 50%;\n",
              "      cursor: pointer;\n",
              "      display: none;\n",
              "      fill: #1967D2;\n",
              "      height: 32px;\n",
              "      padding: 0 0 0 0;\n",
              "      width: 32px;\n",
              "    }\n",
              "\n",
              "    .colab-df-convert:hover {\n",
              "      background-color: #E2EBFA;\n",
              "      box-shadow: 0px 1px 2px rgba(60, 64, 67, 0.3), 0px 1px 3px 1px rgba(60, 64, 67, 0.15);\n",
              "      fill: #174EA6;\n",
              "    }\n",
              "\n",
              "    .colab-df-buttons div {\n",
              "      margin-bottom: 4px;\n",
              "    }\n",
              "\n",
              "    [theme=dark] .colab-df-convert {\n",
              "      background-color: #3B4455;\n",
              "      fill: #D2E3FC;\n",
              "    }\n",
              "\n",
              "    [theme=dark] .colab-df-convert:hover {\n",
              "      background-color: #434B5C;\n",
              "      box-shadow: 0px 1px 3px 1px rgba(0, 0, 0, 0.15);\n",
              "      filter: drop-shadow(0px 1px 2px rgba(0, 0, 0, 0.3));\n",
              "      fill: #FFFFFF;\n",
              "    }\n",
              "  </style>\n",
              "\n",
              "    <script>\n",
              "      const buttonEl =\n",
              "        document.querySelector('#df-a2e75648-5a43-4ab8-bd1a-d9b0f1229a86 button.colab-df-convert');\n",
              "      buttonEl.style.display =\n",
              "        google.colab.kernel.accessAllowed ? 'block' : 'none';\n",
              "\n",
              "      async function convertToInteractive(key) {\n",
              "        const element = document.querySelector('#df-a2e75648-5a43-4ab8-bd1a-d9b0f1229a86');\n",
              "        const dataTable =\n",
              "          await google.colab.kernel.invokeFunction('convertToInteractive',\n",
              "                                                    [key], {});\n",
              "        if (!dataTable) return;\n",
              "\n",
              "        const docLinkHtml = 'Like what you see? Visit the ' +\n",
              "          '<a target=\"_blank\" href=https://colab.research.google.com/notebooks/data_table.ipynb>data table notebook</a>'\n",
              "          + ' to learn more about interactive tables.';\n",
              "        element.innerHTML = '';\n",
              "        dataTable['output_type'] = 'display_data';\n",
              "        await google.colab.output.renderOutput(dataTable, element);\n",
              "        const docLink = document.createElement('div');\n",
              "        docLink.innerHTML = docLinkHtml;\n",
              "        element.appendChild(docLink);\n",
              "      }\n",
              "    </script>\n",
              "  </div>\n",
              "\n",
              "\n",
              "<div id=\"df-6cb0225a-4038-4a5e-b508-f3880db2e247\">\n",
              "  <button class=\"colab-df-quickchart\" onclick=\"quickchart('df-6cb0225a-4038-4a5e-b508-f3880db2e247')\"\n",
              "            title=\"Suggest charts.\"\n",
              "            style=\"display:none;\">\n",
              "\n",
              "<svg xmlns=\"http://www.w3.org/2000/svg\" height=\"24px\"viewBox=\"0 0 24 24\"\n",
              "     width=\"24px\">\n",
              "    <g>\n",
              "        <path d=\"M19 3H5c-1.1 0-2 .9-2 2v14c0 1.1.9 2 2 2h14c1.1 0 2-.9 2-2V5c0-1.1-.9-2-2-2zM9 17H7v-7h2v7zm4 0h-2V7h2v10zm4 0h-2v-4h2v4z\"/>\n",
              "    </g>\n",
              "</svg>\n",
              "  </button>\n",
              "\n",
              "<style>\n",
              "  .colab-df-quickchart {\n",
              "      --bg-color: #E8F0FE;\n",
              "      --fill-color: #1967D2;\n",
              "      --hover-bg-color: #E2EBFA;\n",
              "      --hover-fill-color: #174EA6;\n",
              "      --disabled-fill-color: #AAA;\n",
              "      --disabled-bg-color: #DDD;\n",
              "  }\n",
              "\n",
              "  [theme=dark] .colab-df-quickchart {\n",
              "      --bg-color: #3B4455;\n",
              "      --fill-color: #D2E3FC;\n",
              "      --hover-bg-color: #434B5C;\n",
              "      --hover-fill-color: #FFFFFF;\n",
              "      --disabled-bg-color: #3B4455;\n",
              "      --disabled-fill-color: #666;\n",
              "  }\n",
              "\n",
              "  .colab-df-quickchart {\n",
              "    background-color: var(--bg-color);\n",
              "    border: none;\n",
              "    border-radius: 50%;\n",
              "    cursor: pointer;\n",
              "    display: none;\n",
              "    fill: var(--fill-color);\n",
              "    height: 32px;\n",
              "    padding: 0;\n",
              "    width: 32px;\n",
              "  }\n",
              "\n",
              "  .colab-df-quickchart:hover {\n",
              "    background-color: var(--hover-bg-color);\n",
              "    box-shadow: 0 1px 2px rgba(60, 64, 67, 0.3), 0 1px 3px 1px rgba(60, 64, 67, 0.15);\n",
              "    fill: var(--button-hover-fill-color);\n",
              "  }\n",
              "\n",
              "  .colab-df-quickchart-complete:disabled,\n",
              "  .colab-df-quickchart-complete:disabled:hover {\n",
              "    background-color: var(--disabled-bg-color);\n",
              "    fill: var(--disabled-fill-color);\n",
              "    box-shadow: none;\n",
              "  }\n",
              "\n",
              "  .colab-df-spinner {\n",
              "    border: 2px solid var(--fill-color);\n",
              "    border-color: transparent;\n",
              "    border-bottom-color: var(--fill-color);\n",
              "    animation:\n",
              "      spin 1s steps(1) infinite;\n",
              "  }\n",
              "\n",
              "  @keyframes spin {\n",
              "    0% {\n",
              "      border-color: transparent;\n",
              "      border-bottom-color: var(--fill-color);\n",
              "      border-left-color: var(--fill-color);\n",
              "    }\n",
              "    20% {\n",
              "      border-color: transparent;\n",
              "      border-left-color: var(--fill-color);\n",
              "      border-top-color: var(--fill-color);\n",
              "    }\n",
              "    30% {\n",
              "      border-color: transparent;\n",
              "      border-left-color: var(--fill-color);\n",
              "      border-top-color: var(--fill-color);\n",
              "      border-right-color: var(--fill-color);\n",
              "    }\n",
              "    40% {\n",
              "      border-color: transparent;\n",
              "      border-right-color: var(--fill-color);\n",
              "      border-top-color: var(--fill-color);\n",
              "    }\n",
              "    60% {\n",
              "      border-color: transparent;\n",
              "      border-right-color: var(--fill-color);\n",
              "    }\n",
              "    80% {\n",
              "      border-color: transparent;\n",
              "      border-right-color: var(--fill-color);\n",
              "      border-bottom-color: var(--fill-color);\n",
              "    }\n",
              "    90% {\n",
              "      border-color: transparent;\n",
              "      border-bottom-color: var(--fill-color);\n",
              "    }\n",
              "  }\n",
              "</style>\n",
              "\n",
              "  <script>\n",
              "    async function quickchart(key) {\n",
              "      const quickchartButtonEl =\n",
              "        document.querySelector('#' + key + ' button');\n",
              "      quickchartButtonEl.disabled = true;  // To prevent multiple clicks.\n",
              "      quickchartButtonEl.classList.add('colab-df-spinner');\n",
              "      try {\n",
              "        const charts = await google.colab.kernel.invokeFunction(\n",
              "            'suggestCharts', [key], {});\n",
              "      } catch (error) {\n",
              "        console.error('Error during call to suggestCharts:', error);\n",
              "      }\n",
              "      quickchartButtonEl.classList.remove('colab-df-spinner');\n",
              "      quickchartButtonEl.classList.add('colab-df-quickchart-complete');\n",
              "    }\n",
              "    (() => {\n",
              "      let quickchartButtonEl =\n",
              "        document.querySelector('#df-6cb0225a-4038-4a5e-b508-f3880db2e247 button');\n",
              "      quickchartButtonEl.style.display =\n",
              "        google.colab.kernel.accessAllowed ? 'block' : 'none';\n",
              "    })();\n",
              "  </script>\n",
              "</div>\n",
              "    </div>\n",
              "  </div>\n"
            ],
            "text/plain": [
              "       Make        Model   Vehicle_Class  Eng_Size  Cylinders Transmission  \\\n",
              "0     ACURA          ILX         COMPACT       2.0          4          AS5   \n",
              "1     ACURA          ILX         COMPACT       2.4          4           M6   \n",
              "2     ACURA   ILX HYBRID         COMPACT       1.5          4          AV7   \n",
              "3     ACURA      MDX 4WD     SUV - SMALL       3.5          6          AS6   \n",
              "4     ACURA      RDX AWD     SUV - SMALL       3.5          6          AS6   \n",
              "...     ...          ...             ...       ...        ...          ...   \n",
              "7380  VOLVO  XC40 T5 AWD     SUV - SMALL       2.0          4          AS8   \n",
              "7381  VOLVO  XC60 T5 AWD     SUV - SMALL       2.0          4          AS8   \n",
              "7382  VOLVO  XC60 T6 AWD     SUV - SMALL       2.0          4          AS8   \n",
              "7383  VOLVO  XC90 T5 AWD  SUV - STANDARD       2.0          4          AS8   \n",
              "7384  VOLVO  XC90 T6 AWD  SUV - STANDARD       2.0          4          AS8   \n",
              "\n",
              "     Fuel_Type  fuel_cons_city  fuel_cons_hwy  fuel_cons_comb  \\\n",
              "0            Z             9.9            6.7             8.5   \n",
              "1            Z            11.2            7.7             9.6   \n",
              "2            Z             6.0            5.8             5.9   \n",
              "3            Z            12.7            9.1            11.1   \n",
              "4            Z            12.1            8.7            10.6   \n",
              "...        ...             ...            ...             ...   \n",
              "7380         Z            10.7            7.7             9.4   \n",
              "7381         Z            11.2            8.3             9.9   \n",
              "7382         Z            11.7            8.6            10.3   \n",
              "7383         Z            11.2            8.3             9.9   \n",
              "7384         Z            12.2            8.7            10.7   \n",
              "\n",
              "      mpgfuel_cons_comb  co2  \n",
              "0                    33  196  \n",
              "1                    29  221  \n",
              "2                    48  136  \n",
              "3                    25  255  \n",
              "4                    27  244  \n",
              "...                 ...  ...  \n",
              "7380                 30  219  \n",
              "7381                 29  232  \n",
              "7382                 27  240  \n",
              "7383                 29  232  \n",
              "7384                 26  248  \n",
              "\n",
              "[6282 rows x 12 columns]"
            ]
          },
          "execution_count": 100,
          "metadata": {},
          "output_type": "execute_result"
        }
      ],
      "source": [
        "df1"
      ]
    },
    {
      "cell_type": "markdown",
      "metadata": {
        "id": "y21Yk5oxvuCs"
      },
      "source": [
        "4WD/4X4 = Four-wheel drive\n",
        "AWD = All-wheel drive\n",
        "FFV = Flexible-fuel vehicle\n",
        "SWB = Short wheelbase\n",
        "LWB = Long wheelbase\n",
        "EWB = Extended wheelbase"
      ]
    },
    {
      "cell_type": "code",
      "execution_count": null,
      "metadata": {
        "id": "KfQv2xvvteRo"
      },
      "outputs": [],
      "source": [
        "import re\n",
        "def replace_val(value) :\n",
        "  if re.search(r'AWD' , value):\n",
        "    return \"AWD\"\n",
        "  elif re.search(r'4WD' , value):\n",
        "    return \"4WD\"\n",
        "  elif re.search(r'FFV' , value) :\n",
        "    return  \"FFV\"\n",
        "  elif re.search(r'SWB' , value) :\n",
        "    return \"SWB\"\n",
        "  elif re.search(r'LWB' , value) :\n",
        "    return \"LWB\"\n",
        "  elif re.search(r'EWB' , value) :\n",
        "    return \"EWB\"\n",
        "  else :\n",
        "    return value\n",
        "df1[\"Model\"] = df1['Model'].apply(replace_val)"
      ]
    },
    {
      "cell_type": "code",
      "execution_count": null,
      "metadata": {
        "colab": {
          "base_uri": "https://localhost:8080/"
        },
        "id": "7UeoNQsvw5vJ",
        "outputId": "ec249d22-be49-4be5-947c-408b51398714"
      },
      "outputs": [
        {
          "data": {
            "text/plain": [
              "2053"
            ]
          },
          "execution_count": 102,
          "metadata": {},
          "output_type": "execute_result"
        }
      ],
      "source": [
        "len(np.unique(df[\"Model\"]))"
      ]
    },
    {
      "cell_type": "code",
      "execution_count": null,
      "metadata": {
        "colab": {
          "base_uri": "https://localhost:8080/"
        },
        "id": "R7bDC-cpsbm2",
        "outputId": "56a7fc6a-30fd-4748-ee51-60657a26d55c"
      },
      "outputs": [
        {
          "data": {
            "text/plain": [
              "(6282, 12)"
            ]
          },
          "execution_count": 103,
          "metadata": {},
          "output_type": "execute_result"
        }
      ],
      "source": [
        "df1.shape"
      ]
    },
    {
      "cell_type": "code",
      "execution_count": null,
      "metadata": {
        "id": "2zYXEVFOUKQ1"
      },
      "outputs": [],
      "source": [
        "# Categorising in A, AM, AS, AV and M\n",
        "category_map = {'A10' : 'A',\n",
        "                'A4' : 'A',\n",
        "                'A5': 'A',\n",
        "                'A6': 'A',\n",
        "                'A7': 'A',\n",
        "                'A8': 'A',\n",
        "                'A9': 'A',\n",
        "                'AM5':'AM',\n",
        "                'AM6':'AM',\n",
        "                'AM7':'AM',\n",
        "                'AM8':'AM',\n",
        "                'AM9':'AM',\n",
        "                'AS10':'AS',\n",
        "                'AS4':'AS',\n",
        "                'AS5':'AS',\n",
        "                'AS6':'AS',\n",
        "                'AS7':'AS',\n",
        "                'AS8':'AS',\n",
        "                'AS9':'AS',\n",
        "                'AV' :'AV',\n",
        "                'AV10':'AV',\n",
        "                'AV6':'AV',\n",
        "                'AV7':'AV',\n",
        "                'AV8':'AV',\n",
        "                'M5':'M',\n",
        "                'M6':'M',\n",
        "                'M7':'M'}\n",
        "df1['Transmission'] = df1['Transmission'].replace(category_map)"
      ]
    },
    {
      "cell_type": "code",
      "execution_count": null,
      "metadata": {
        "colab": {
          "base_uri": "https://localhost:8080/"
        },
        "id": "T3NP8RYJbFRe",
        "outputId": "3e1ffd0e-bb50-4480-a12a-45317ee074aa"
      },
      "outputs": [
        {
          "data": {
            "text/plain": [
              "(6282, 12)"
            ]
          },
          "execution_count": 105,
          "metadata": {},
          "output_type": "execute_result"
        }
      ],
      "source": [
        "df1.shape"
      ]
    },
    {
      "cell_type": "code",
      "execution_count": null,
      "metadata": {
        "colab": {
          "base_uri": "https://localhost:8080/"
        },
        "id": "blcaJt4p1O1g",
        "outputId": "f028969e-c28b-49a8-f0ef-a0e93fbd14fa"
      },
      "outputs": [
        {
          "data": {
            "text/plain": [
              "Make                  object\n",
              "Model                 object\n",
              "Vehicle_Class         object\n",
              "Eng_Size             float64\n",
              "Cylinders              int64\n",
              "Transmission          object\n",
              "Fuel_Type             object\n",
              "fuel_cons_city       float64\n",
              "fuel_cons_hwy        float64\n",
              "fuel_cons_comb       float64\n",
              "mpgfuel_cons_comb      int64\n",
              "co2                    int64\n",
              "dtype: object"
            ]
          },
          "execution_count": 106,
          "metadata": {},
          "output_type": "execute_result"
        }
      ],
      "source": [
        "df1.dtypes"
      ]
    },
    {
      "cell_type": "markdown",
      "metadata": {
        "id": "pX7G4-q94tIT"
      },
      "source": [
        "Changing the data type of CO2 and MPGfuel from int64 to float64"
      ]
    },
    {
      "cell_type": "code",
      "execution_count": null,
      "metadata": {
        "id": "fpIZqSXB1TrZ"
      },
      "outputs": [],
      "source": [
        "df1['mpgfuel_cons_comb'] = df1['mpgfuel_cons_comb'].astype('float64')\n",
        "df1['co2'] = df1['co2'].astype('float64')\n"
      ]
    },
    {
      "cell_type": "code",
      "execution_count": null,
      "metadata": {
        "colab": {
          "base_uri": "https://localhost:8080/"
        },
        "id": "Ov1FBnTf2oqM",
        "outputId": "4c09d55d-f6b7-4718-83e6-8afa7fb6ea3c"
      },
      "outputs": [
        {
          "data": {
            "text/plain": [
              "Make                  object\n",
              "Model                 object\n",
              "Vehicle_Class         object\n",
              "Eng_Size             float64\n",
              "Cylinders              int64\n",
              "Transmission          object\n",
              "Fuel_Type             object\n",
              "fuel_cons_city       float64\n",
              "fuel_cons_hwy        float64\n",
              "fuel_cons_comb       float64\n",
              "mpgfuel_cons_comb    float64\n",
              "co2                  float64\n",
              "dtype: object"
            ]
          },
          "execution_count": 108,
          "metadata": {},
          "output_type": "execute_result"
        }
      ],
      "source": [
        "df1.dtypes"
      ]
    },
    {
      "cell_type": "markdown",
      "metadata": {
        "id": "ihYfWqpAX0Fh"
      },
      "source": [
        "# Exploratory Data Analysis\n",
        "## Using Matplotlib and Seaborn for visualisation"
      ]
    },
    {
      "cell_type": "markdown",
      "metadata": {
        "id": "HpoEw9qnbCbp"
      },
      "source": [
        "### Effect of Features on CO2 Emission"
      ]
    },
    {
      "cell_type": "code",
      "execution_count": null,
      "metadata": {
        "colab": {
          "base_uri": "https://localhost:8080/"
        },
        "id": "Ep9qZreMXy_Z",
        "outputId": "0d400765-4d67-4100-8c40-940bf3f7a688"
      },
      "outputs": [
        {
          "data": {
            "text/plain": [
              "<Axes: xlabel='Cylinders', ylabel='co2'>"
            ]
          },
          "execution_count": 109,
          "metadata": {},
          "output_type": "execute_result"
        },
        {
          "data": {
            "image/png": "[encoded data removed]",
            "text/plain": [
              "<Figure size 640x480 with 1 Axes>"
            ]
          },
          "metadata": {},
          "output_type": "display_data"
        }
      ],
      "source": [
        "# Car Cylinder vs CO2 Emission\n",
        "sns.set(style = \"darkgrid\")\n",
        "sns.boxplot(x = df1['Cylinders'] ,y= df1['co2'] )\n"
      ]
    },
    {
      "cell_type": "markdown",
      "metadata": {
        "id": "bUAoMlDhZzgY"
      },
      "source": [
        "##Interpretation\n",
        "\n",
        "*   Vehicles having more cylinders tend to produce more co2.\n",
        "*   No. of Cylinders in vehicles seems important variable in producing co2.\n",
        "*   8 cylinder vehicles have outliers on upper side.\n"
      ]
    },
    {
      "cell_type": "code",
      "execution_count": null,
      "metadata": {
        "colab": {
          "base_uri": "https://localhost:8080/"
        },
        "id": "spCoekv6aeLc",
        "outputId": "b162da0f-6caa-4309-d724-e295b1d0fc6e"
      },
      "outputs": [
        {
          "data": {
            "text/plain": [
              "<Axes: xlabel='Fuel_Type', ylabel='co2'>"
            ]
          },
          "execution_count": 110,
          "metadata": {},
          "output_type": "execute_result"
        },
        {
          "data": {
            "image/png": "[encoded data removed]",
            "text/plain": [
              "<Figure size 640x480 with 1 Axes>"
            ]
          },
          "metadata": {},
          "output_type": "display_data"
        }
      ],
      "source": [
        "# Fuel Type vs CO2\n",
        "sns.set(style = \"darkgrid\")\n",
        "sns.boxplot(x = df1['Fuel_Type'] ,y= df1['co2'] )"
      ]
    },
    {
      "cell_type": "code",
      "execution_count": null,
      "metadata": {
        "id": "kRgVZSGncy8j"
      },
      "outputs": [],
      "source": [
        "# Vehicle Type vs Co2\n",
        "sns.set(style = \"darkgrid\")\n",
        "sns.boxplot(x = df1['Vehicle_Class'] ,y= df1['co2'] )\n",
        "plt.xticks(rotation = 90)\n",
        "plt.show()"
      ]
    },
    {
      "cell_type": "markdown",
      "metadata": {
        "id": "iVcIY-FYdrZu"
      },
      "source": [
        "#Interpretation\n",
        "*   Van Passenger has higher co2 emission on an average.\n",
        "*   Mid size and Two seater has higher co2 emission."
      ]
    },
    {
      "cell_type": "code",
      "execution_count": null,
      "metadata": {
        "id": "B3LNxOUZerNx"
      },
      "outputs": [],
      "source": [
        "# Car maker vs CO2\n",
        "plt.figure(figsize=(12,6))\n",
        "sns.set(style = \"darkgrid\" , )\n",
        "sns.boxplot(x = df1['Make'] ,y= df1['co2'] )\n",
        "plt.xticks(rotation = 90)\n",
        "plt.show()"
      ]
    },
    {
      "cell_type": "markdown",
      "metadata": {
        "id": "VATfqIqlmcZR"
      },
      "source": [
        "# Interpretation\n",
        "*    Bugati is highest co2 emitter\n",
        "*    Lamborghini also has significantly higher co2 emission than others\n",
        "*    Smart is least co2 emitter"
      ]
    },
    {
      "cell_type": "code",
      "execution_count": null,
      "metadata": {
        "id": "uUMxEtF3mcDU"
      },
      "outputs": [],
      "source": [
        "np.unique(df1[\"Make\"])"
      ]
    },
    {
      "cell_type": "markdown",
      "metadata": {
        "id": "-7btCsTvnxiu"
      },
      "source": [
        "*    BUGATTI has highest 16 cylinders which is an outlier"
      ]
    },
    {
      "cell_type": "code",
      "execution_count": null,
      "metadata": {
        "id": "VkDms5NFfPQI"
      },
      "outputs": [],
      "source": [
        "# Cylinders\n",
        "sns.set(style = \"darkgrid\")\n",
        "sns.histplot(x = df1['Cylinders']  )"
      ]
    },
    {
      "cell_type": "code",
      "execution_count": null,
      "metadata": {
        "id": "Z7faEZF-pmnL"
      },
      "outputs": [],
      "source": [
        "df1.Cylinders.value_counts()"
      ]
    },
    {
      "cell_type": "code",
      "execution_count": null,
      "metadata": {
        "id": "jfKQnebiqXbl"
      },
      "outputs": [],
      "source": [
        "df1.Cylinders.value_counts(normalize = True)"
      ]
    },
    {
      "cell_type": "markdown",
      "metadata": {
        "id": "XXrOjT5gpbc4"
      },
      "source": [
        "*    About 43.75% cars have 4 cylinders followed by 6 Cylinders\n",
        "*    "
      ]
    },
    {
      "cell_type": "code",
      "execution_count": null,
      "metadata": {
        "id": "r_QxI5edwdyA"
      },
      "outputs": [],
      "source": [
        "# CO2 Plot\n",
        "sns.set(style = \"darkgrid\")\n",
        "f,(ax_box , ax_hist) = plt.subplots(2 , gridspec_kw= {\"height_ratios\" : (0.15,0.85)})\n",
        "sns.boxplot(df1['co2'] ,orient = 'h' , ax = ax_box)\n",
        "sns.histplot(x = df1['co2'] , ax = ax_hist, kde = False )"
      ]
    },
    {
      "cell_type": "code",
      "execution_count": null,
      "metadata": {
        "id": "R7GDlq1Mx7Fm"
      },
      "outputs": [],
      "source": [
        "# Fuel Consumptions\n",
        "plt.hist(df1[\"fuel_cons_city\"], color=\"green\", label=\"Fuel Consumption in city\", alpha=0.3)\n",
        "plt.hist(df1[\"fuel_cons_hwy\"], color=\"blue\", label=\"Fuel Consumption in Highway\", alpha=0.3)\n",
        "plt.hist(df1[\"fuel_cons_comb\"], color=\"red\", label=\"Fuel Consumption in combination\", alpha=0.3 )\n",
        "plt.title(\"Comparison of Fuel Consumptions\")\n",
        "plt.xlabel(\"L/ 100 KM\")\n",
        "plt.legend()\n"
      ]
    },
    {
      "cell_type": "markdown",
      "metadata": {
        "id": "Dw3kurAK1MQo"
      },
      "source": [
        "*    Fuel consumption on Highways is higher."
      ]
    },
    {
      "cell_type": "code",
      "execution_count": null,
      "metadata": {
        "id": "ExcV6Gq40tfo"
      },
      "outputs": [],
      "source": [
        "# Co2 vs Engine and Transmission\n",
        "plt.figure(figsize = (12,6))\n",
        "plt.subplot(1,2,1)  # split plot area in 1row and 2 column , 1st plot\n",
        " # Engine\n",
        "sns.scatterplot(x= df1['Eng_Size'] , y = df1['co2'])\n",
        "plt.title('Engine size vs CO2')\n",
        "plt.subplot(1,2,2)\n",
        "# Transmission\n",
        "sns.boxplot( x = df1['Transmission'] , y = df1['co2'])\n",
        "plt.title('Transmission vs CO2')\n",
        "plt.xticks(rotation = 45)"
      ]
    },
    {
      "cell_type": "markdown",
      "metadata": {
        "id": "AsBmvw0EXM8Z"
      },
      "source": [
        "*    Engine size seems to have influence on the CO2 emission.Higher engine size have higher co2 emission.\n",
        "*    Automatic transmission have higher co2 emission.\n"
      ]
    },
    {
      "cell_type": "code",
      "execution_count": null,
      "metadata": {
        "id": "f8H_To-uf6ED"
      },
      "outputs": [],
      "source": [
        "sns.countplot(data = df1 , x = 'Transmission' , hue = 'Cylinders' , palette = 'Set1')\n",
        "plt.xlabel('Transmission')\n",
        "plt.ylabel('Count')"
      ]
    },
    {
      "cell_type": "code",
      "execution_count": null,
      "metadata": {
        "id": "XTiStuO3XwXc"
      },
      "outputs": [],
      "source": [
        "# Fuel consumptions vs Co2 emission\n",
        "plt.figure(figsize = (12,10))\n",
        "plt.subplot(2,2,1)\n",
        "# Fuel consumptions in City vs CO2\n",
        "sns.scatterplot( x =df1['fuel_cons_city'] , y = df1['co2'] , hue = df1['Transmission'])\n",
        "plt.title(\"Fuel consumption in city vs CO2\")\n",
        "\n",
        "# Fuel consumptions in City vs CO2\n",
        "plt.subplot(2,2,2)\n",
        "sns.scatterplot( x =df1['fuel_cons_hwy'] , y = df1['co2'], hue = df1['Transmission'])\n",
        "plt.title(\"Fuel consumption in highway vs CO2\")\n",
        "\n",
        "#  Fuel consumption (Combined) vs CO2\n",
        "plt.subplot(2,2,3)\n",
        "sns.scatterplot( x =df1['fuel_cons_comb'] , y = df1['co2'], hue = df1['Transmission'])\n",
        "plt.title(\"Fuel consumption combined vs CO2\")\n",
        "#  Fuel consumptin (mpg) vs CO2\n",
        "plt.subplot(2,2,4)\n",
        "sns.scatterplot( x =df1['mpgfuel_cons_comb'] , y = df1['co2'], hue = df1['Transmission'])\n",
        "plt.title(\"Fuel consumption (mpg) vs CO2\")"
      ]
    },
    {
      "cell_type": "markdown",
      "metadata": {
        "id": "f2ZnpkeFmAef"
      },
      "source": [
        "Obiviously more co2 emission occur if more fuel is consumed"
      ]
    },
    {
      "cell_type": "markdown",
      "metadata": {
        "id": "RqK9L1kwjRNg"
      },
      "source": [
        "## Which type of Fuel is consumed mostly ?\n"
      ]
    },
    {
      "cell_type": "code",
      "execution_count": null,
      "metadata": {
        "colab": {
          "background_save": true
        },
        "id": "OmeLb_gVjDOp",
        "outputId": "8a8cde04-22b0-43ca-9167-e2e5dd1c9393"
      },
      "outputs": [
        {
          "data": {
            "text/plain": [
              "Text(0.5, 1.0, 'Fuel consumption in mpg')"
            ]
          },
          "execution_count": 122,
          "metadata": {},
          "output_type": "execute_result"
        },
        {
          "data": {
            "image/png": "[encoded data removed]",
            "text/plain": [
              "<Figure size 1200x1000 with 4 Axes>"
            ]
          },
          "metadata": {},
          "output_type": "display_data"
        }
      ],
      "source": [
        "\n",
        "plt.figure(figsize = (12,10))\n",
        "plt.subplot(2,2,1)\n",
        "# Histogram of Consumption in city with fuel type\n",
        "\n",
        "sns.histplot( x = df1['fuel_cons_city'] , hue = df1['Fuel_Type'] , element = 'poly')\n",
        "plt.title(\"Fuel consumption in City\")\n",
        "\n",
        "plt.subplot(2,2,2)\n",
        "sns.histplot( x = df1['fuel_cons_hwy'] , hue = df1['Fuel_Type'],element = 'poly')\n",
        "plt.title(\"Fuel consumption in highway\")\n",
        "\n",
        "plt.subplot(2,2,3)\n",
        "sns.histplot( x = df1['fuel_cons_comb'] , hue = df1['Fuel_Type'],element = 'poly')\n",
        "plt.title(\"Fuel consumption in combination\")\n",
        "\n",
        "plt.subplot(2,2,4)\n",
        "sns.histplot( x = df1['mpgfuel_cons_comb'] , hue = df1['Fuel_Type'],element = 'poly')\n",
        "plt.title(\"Fuel consumption in mpg\")"
      ]
    },
    {
      "cell_type": "markdown",
      "metadata": {
        "id": "7L7-lXNDlOoo"
      },
      "source": [
        "*     Fuel type X and Z are mostly used in cities and highways."
      ]
    },
    {
      "cell_type": "markdown",
      "metadata": {
        "id": "v9x8P6ZLnD0Z"
      },
      "source": [
        "##Correlation in data"
      ]
    },
    {
      "cell_type": "code",
      "execution_count": null,
      "metadata": {
        "colab": {
          "background_save": true
        },
        "id": "jc20VQAxnH68",
        "outputId": "e538e476-543e-420d-f2ed-6086e01857e6"
      },
      "outputs": [
        {
          "name": "stderr",
          "output_type": "stream",
          "text": [
            "<ipython-input-123-510667b0132a>:1: FutureWarning: The default value of numeric_only in DataFrame.corr is deprecated. In a future version, it will default to False. Select only valid columns or specify the value of numeric_only to silence this warning.\n",
            "  sns.heatmap(df1.corr() , annot = True)\n"
          ]
        },
        {
          "data": {
            "text/plain": [
              "<Axes: >"
            ]
          },
          "execution_count": 123,
          "metadata": {},
          "output_type": "execute_result"
        },
        {
          "data": {
            "image/png": "[encoded data removed]",
            "text/plain": [
              "<Figure size 640x480 with 2 Axes>"
            ]
          },
          "metadata": {},
          "output_type": "display_data"
        }
      ],
      "source": [
        "sns.heatmap(df1.corr() , annot = True)"
      ]
    },
    {
      "cell_type": "markdown",
      "metadata": {
        "id": "7bGf-lHdn950"
      },
      "source": [
        "*   Variables are highly correlated.\n",
        "*   We should use Combined fuel consumption on highway and city.\n"
      ]
    },
    {
      "cell_type": "code",
      "execution_count": null,
      "metadata": {
        "colab": {
          "background_save": true
        },
        "id": "_lpSpjwLn8Ub"
      },
      "outputs": [],
      "source": [
        "#sns.pairplot( df1 , kind = 'Scatter' , hue = 'Fuel_Type')\n",
        "#plt.show()"
      ]
    },
    {
      "cell_type": "code",
      "execution_count": null,
      "metadata": {
        "colab": {
          "background_save": true
        },
        "id": "jMjTsHZ53JnJ",
        "outputId": "052c4466-fdf8-4138-ef90-3e0ca33b2162"
      },
      "outputs": [
        {
          "data": {
            "text/plain": [
              "array([[<Axes: title={'center': 'Eng_Size'}>,\n",
              "        <Axes: title={'center': 'Cylinders'}>,\n",
              "        <Axes: title={'center': 'fuel_cons_city'}>],\n",
              "       [<Axes: title={'center': 'fuel_cons_hwy'}>,\n",
              "        <Axes: title={'center': 'fuel_cons_comb'}>,\n",
              "        <Axes: title={'center': 'mpgfuel_cons_comb'}>],\n",
              "       [<Axes: title={'center': 'co2'}>, <Axes: >, <Axes: >]],\n",
              "      dtype=object)"
            ]
          },
          "execution_count": 125,
          "metadata": {},
          "output_type": "execute_result"
        },
        {
          "data": {
            "image/png": "[encoded data removed]",
            "text/plain": [
              "<Figure size 2000x1000 with 9 Axes>"
            ]
          },
          "metadata": {},
          "output_type": "display_data"
        }
      ],
      "source": [
        "\n",
        "df1.hist(figsize = (20,10))"
      ]
    },
    {
      "cell_type": "markdown",
      "metadata": {
        "id": "z72z4sK5GDg4"
      },
      "source": [
        "#Outliers"
      ]
    },
    {
      "cell_type": "code",
      "execution_count": null,
      "metadata": {
        "colab": {
          "background_save": true
        },
        "id": "8A-xqMv__Qzm"
      },
      "outputs": [],
      "source": [
        "# count no. of rows in outlier\n",
        "Q1 = df1['co2'].quantile(0.25)\n",
        "Q3 = df1['co2'].quantile(0.75)\n",
        "# Bounds\n",
        "U_bound = Q3 + (Q3 - Q1)*1.5\n",
        "L_bound = Q1 - (Q3 - Q1)*1.5\n",
        "outlier_df = df1[(df1['co2'] < L_bound) | (df1['co2'] > U_bound) ]\n"
      ]
    },
    {
      "cell_type": "code",
      "execution_count": null,
      "metadata": {
        "colab": {
          "background_save": true
        },
        "id": "rNmFF--dCBnv",
        "outputId": "49c10d54-9c04-46f0-9725-123f8bfd130b"
      },
      "outputs": [
        {
          "data": {
            "text/html": [
              "\n",
              "  <div id=\"df-afffe306-5038-43dc-8843-a0f3ad2b4c4d\" class=\"colab-df-container\">\n",
              "    <div>\n",
              "<style scoped>\n",
              "    .dataframe tbody tr th:only-of-type {\n",
              "        vertical-align: middle;\n",
              "    }\n",
              "\n",
              "    .dataframe tbody tr th {\n",
              "        vertical-align: top;\n",
              "    }\n",
              "\n",
              "    .dataframe thead th {\n",
              "        text-align: right;\n",
              "    }\n",
              "</style>\n",
              "<table border=\"1\" class=\"dataframe\">\n",
              "  <thead>\n",
              "    <tr style=\"text-align: right;\">\n",
              "      <th></th>\n",
              "      <th>Make</th>\n",
              "      <th>Model</th>\n",
              "      <th>Vehicle_Class</th>\n",
              "      <th>Eng_Size</th>\n",
              "      <th>Cylinders</th>\n",
              "      <th>Transmission</th>\n",
              "      <th>Fuel_Type</th>\n",
              "      <th>fuel_cons_city</th>\n",
              "      <th>fuel_cons_hwy</th>\n",
              "      <th>fuel_cons_comb</th>\n",
              "      <th>mpgfuel_cons_comb</th>\n",
              "      <th>co2</th>\n",
              "    </tr>\n",
              "  </thead>\n",
              "  <tbody>\n",
              "    <tr>\n",
              "      <th>75</th>\n",
              "      <td>BENTLEY</td>\n",
              "      <td>MULSANNE</td>\n",
              "      <td>MID-SIZE</td>\n",
              "      <td>6.8</td>\n",
              "      <td>8</td>\n",
              "      <td>AS</td>\n",
              "      <td>Z</td>\n",
              "      <td>22.3</td>\n",
              "      <td>14.9</td>\n",
              "      <td>19.0</td>\n",
              "      <td>15.0</td>\n",
              "      <td>437.0</td>\n",
              "    </tr>\n",
              "    <tr>\n",
              "      <th>223</th>\n",
              "      <td>CHEVROLET</td>\n",
              "      <td>EXPRESS 2500 PASSENGER</td>\n",
              "      <td>VAN - PASSENGER</td>\n",
              "      <td>4.8</td>\n",
              "      <td>8</td>\n",
              "      <td>A</td>\n",
              "      <td>X</td>\n",
              "      <td>21.1</td>\n",
              "      <td>14.2</td>\n",
              "      <td>18.0</td>\n",
              "      <td>16.0</td>\n",
              "      <td>414.0</td>\n",
              "    </tr>\n",
              "    <tr>\n",
              "      <th>224</th>\n",
              "      <td>CHEVROLET</td>\n",
              "      <td>EXPRESS 2500 PASSENGER</td>\n",
              "      <td>VAN - PASSENGER</td>\n",
              "      <td>6.0</td>\n",
              "      <td>8</td>\n",
              "      <td>A</td>\n",
              "      <td>X</td>\n",
              "      <td>21.9</td>\n",
              "      <td>15.0</td>\n",
              "      <td>18.8</td>\n",
              "      <td>15.0</td>\n",
              "      <td>432.0</td>\n",
              "    </tr>\n",
              "    <tr>\n",
              "      <th>225</th>\n",
              "      <td>CHEVROLET</td>\n",
              "      <td>EXPRESS 2500 PASSENGER</td>\n",
              "      <td>VAN - PASSENGER</td>\n",
              "      <td>6.0</td>\n",
              "      <td>8</td>\n",
              "      <td>A</td>\n",
              "      <td>E</td>\n",
              "      <td>30.0</td>\n",
              "      <td>20.4</td>\n",
              "      <td>25.7</td>\n",
              "      <td>11.0</td>\n",
              "      <td>411.0</td>\n",
              "    </tr>\n",
              "    <tr>\n",
              "      <th>226</th>\n",
              "      <td>CHEVROLET</td>\n",
              "      <td>EXPRESS 3500 PASSENGER</td>\n",
              "      <td>VAN - PASSENGER</td>\n",
              "      <td>4.8</td>\n",
              "      <td>8</td>\n",
              "      <td>A</td>\n",
              "      <td>X</td>\n",
              "      <td>21.3</td>\n",
              "      <td>14.3</td>\n",
              "      <td>18.2</td>\n",
              "      <td>16.0</td>\n",
              "      <td>419.0</td>\n",
              "    </tr>\n",
              "    <tr>\n",
              "      <th>...</th>\n",
              "      <td>...</td>\n",
              "      <td>...</td>\n",
              "      <td>...</td>\n",
              "      <td>...</td>\n",
              "      <td>...</td>\n",
              "      <td>...</td>\n",
              "      <td>...</td>\n",
              "      <td>...</td>\n",
              "      <td>...</td>\n",
              "      <td>...</td>\n",
              "      <td>...</td>\n",
              "      <td>...</td>\n",
              "    </tr>\n",
              "    <tr>\n",
              "      <th>5575</th>\n",
              "      <td>BUGATTI</td>\n",
              "      <td>Chiron</td>\n",
              "      <td>TWO-SEATER</td>\n",
              "      <td>8.0</td>\n",
              "      <td>16</td>\n",
              "      <td>AM</td>\n",
              "      <td>Z</td>\n",
              "      <td>26.8</td>\n",
              "      <td>16.6</td>\n",
              "      <td>22.2</td>\n",
              "      <td>13.0</td>\n",
              "      <td>522.0</td>\n",
              "    </tr>\n",
              "    <tr>\n",
              "      <th>6010</th>\n",
              "      <td>JEEP</td>\n",
              "      <td>Grand Cherokee 4X4 Trackhawk</td>\n",
              "      <td>SUV - STANDARD</td>\n",
              "      <td>6.2</td>\n",
              "      <td>8</td>\n",
              "      <td>A</td>\n",
              "      <td>Z</td>\n",
              "      <td>20.9</td>\n",
              "      <td>13.8</td>\n",
              "      <td>17.7</td>\n",
              "      <td>16.0</td>\n",
              "      <td>413.0</td>\n",
              "    </tr>\n",
              "    <tr>\n",
              "      <th>6045</th>\n",
              "      <td>LAMBORGHINI</td>\n",
              "      <td>Aventador Coupe</td>\n",
              "      <td>TWO-SEATER</td>\n",
              "      <td>6.5</td>\n",
              "      <td>12</td>\n",
              "      <td>AM</td>\n",
              "      <td>Z</td>\n",
              "      <td>26.3</td>\n",
              "      <td>15.6</td>\n",
              "      <td>21.5</td>\n",
              "      <td>13.0</td>\n",
              "      <td>487.0</td>\n",
              "    </tr>\n",
              "    <tr>\n",
              "      <th>6046</th>\n",
              "      <td>LAMBORGHINI</td>\n",
              "      <td>Aventador Roadster</td>\n",
              "      <td>TWO-SEATER</td>\n",
              "      <td>6.5</td>\n",
              "      <td>12</td>\n",
              "      <td>AM</td>\n",
              "      <td>Z</td>\n",
              "      <td>26.6</td>\n",
              "      <td>15.8</td>\n",
              "      <td>21.7</td>\n",
              "      <td>13.0</td>\n",
              "      <td>493.0</td>\n",
              "    </tr>\n",
              "    <tr>\n",
              "      <th>7058</th>\n",
              "      <td>LAMBORGHINI</td>\n",
              "      <td>Aventador Coupe</td>\n",
              "      <td>TWO-SEATER</td>\n",
              "      <td>6.5</td>\n",
              "      <td>12</td>\n",
              "      <td>AM</td>\n",
              "      <td>Z</td>\n",
              "      <td>26.2</td>\n",
              "      <td>15.5</td>\n",
              "      <td>21.4</td>\n",
              "      <td>13.0</td>\n",
              "      <td>485.0</td>\n",
              "    </tr>\n",
              "  </tbody>\n",
              "</table>\n",
              "<p>74 rows × 12 columns</p>\n",
              "</div>\n",
              "    <div class=\"colab-df-buttons\">\n",
              "\n",
              "  <div class=\"colab-df-container\">\n",
              "    <button class=\"colab-df-convert\" onclick=\"convertToInteractive('df-afffe306-5038-43dc-8843-a0f3ad2b4c4d')\"\n",
              "            title=\"Convert this dataframe to an interactive table.\"\n",
              "            style=\"display:none;\">\n",
              "\n",
              "  <svg xmlns=\"http://www.w3.org/2000/svg\" height=\"24px\" viewBox=\"0 -960 960 960\">\n",
              "    <path d=\"M120-120v-720h720v720H120Zm60-500h600v-160H180v160Zm220 220h160v-160H400v160Zm0 220h160v-160H400v160ZM180-400h160v-160H180v160Zm440 0h160v-160H620v160ZM180-180h160v-160H180v160Zm440 0h160v-160H620v160Z\"/>\n",
              "  </svg>\n",
              "    </button>\n",
              "\n",
              "  <style>\n",
              "    .colab-df-container {\n",
              "      display:flex;\n",
              "      gap: 12px;\n",
              "    }\n",
              "\n",
              "    .colab-df-convert {\n",
              "      background-color: #E8F0FE;\n",
              "      border: none;\n",
              "      border-radius: 50%;\n",
              "      cursor: pointer;\n",
              "      display: none;\n",
              "      fill: #1967D2;\n",
              "      height: 32px;\n",
              "      padding: 0 0 0 0;\n",
              "      width: 32px;\n",
              "    }\n",
              "\n",
              "    .colab-df-convert:hover {\n",
              "      background-color: #E2EBFA;\n",
              "      box-shadow: 0px 1px 2px rgba(60, 64, 67, 0.3), 0px 1px 3px 1px rgba(60, 64, 67, 0.15);\n",
              "      fill: #174EA6;\n",
              "    }\n",
              "\n",
              "    .colab-df-buttons div {\n",
              "      margin-bottom: 4px;\n",
              "    }\n",
              "\n",
              "    [theme=dark] .colab-df-convert {\n",
              "      background-color: #3B4455;\n",
              "      fill: #D2E3FC;\n",
              "    }\n",
              "\n",
              "    [theme=dark] .colab-df-convert:hover {\n",
              "      background-color: #434B5C;\n",
              "      box-shadow: 0px 1px 3px 1px rgba(0, 0, 0, 0.15);\n",
              "      filter: drop-shadow(0px 1px 2px rgba(0, 0, 0, 0.3));\n",
              "      fill: #FFFFFF;\n",
              "    }\n",
              "  </style>\n",
              "\n",
              "    <script>\n",
              "      const buttonEl =\n",
              "        document.querySelector('#df-afffe306-5038-43dc-8843-a0f3ad2b4c4d button.colab-df-convert');\n",
              "      buttonEl.style.display =\n",
              "        google.colab.kernel.accessAllowed ? 'block' : 'none';\n",
              "\n",
              "      async function convertToInteractive(key) {\n",
              "        const element = document.querySelector('#df-afffe306-5038-43dc-8843-a0f3ad2b4c4d');\n",
              "        const dataTable =\n",
              "          await google.colab.kernel.invokeFunction('convertToInteractive',\n",
              "                                                    [key], {});\n",
              "        if (!dataTable) return;\n",
              "\n",
              "        const docLinkHtml = 'Like what you see? Visit the ' +\n",
              "          '<a target=\"_blank\" href=https://colab.research.google.com/notebooks/data_table.ipynb>data table notebook</a>'\n",
              "          + ' to learn more about interactive tables.';\n",
              "        element.innerHTML = '';\n",
              "        dataTable['output_type'] = 'display_data';\n",
              "        await google.colab.output.renderOutput(dataTable, element);\n",
              "        const docLink = document.createElement('div');\n",
              "        docLink.innerHTML = docLinkHtml;\n",
              "        element.appendChild(docLink);\n",
              "      }\n",
              "    </script>\n",
              "  </div>\n",
              "\n",
              "\n",
              "<div id=\"df-b0f6bae8-c818-4e90-ae58-6e9cfe887a7f\">\n",
              "  <button class=\"colab-df-quickchart\" onclick=\"quickchart('df-b0f6bae8-c818-4e90-ae58-6e9cfe887a7f')\"\n",
              "            title=\"Suggest charts.\"\n",
              "            style=\"display:none;\">\n",
              "\n",
              "<svg xmlns=\"http://www.w3.org/2000/svg\" height=\"24px\"viewBox=\"0 0 24 24\"\n",
              "     width=\"24px\">\n",
              "    <g>\n",
              "        <path d=\"M19 3H5c-1.1 0-2 .9-2 2v14c0 1.1.9 2 2 2h14c1.1 0 2-.9 2-2V5c0-1.1-.9-2-2-2zM9 17H7v-7h2v7zm4 0h-2V7h2v10zm4 0h-2v-4h2v4z\"/>\n",
              "    </g>\n",
              "</svg>\n",
              "  </button>\n",
              "\n",
              "<style>\n",
              "  .colab-df-quickchart {\n",
              "      --bg-color: #E8F0FE;\n",
              "      --fill-color: #1967D2;\n",
              "      --hover-bg-color: #E2EBFA;\n",
              "      --hover-fill-color: #174EA6;\n",
              "      --disabled-fill-color: #AAA;\n",
              "      --disabled-bg-color: #DDD;\n",
              "  }\n",
              "\n",
              "  [theme=dark] .colab-df-quickchart {\n",
              "      --bg-color: #3B4455;\n",
              "      --fill-color: #D2E3FC;\n",
              "      --hover-bg-color: #434B5C;\n",
              "      --hover-fill-color: #FFFFFF;\n",
              "      --disabled-bg-color: #3B4455;\n",
              "      --disabled-fill-color: #666;\n",
              "  }\n",
              "\n",
              "  .colab-df-quickchart {\n",
              "    background-color: var(--bg-color);\n",
              "    border: none;\n",
              "    border-radius: 50%;\n",
              "    cursor: pointer;\n",
              "    display: none;\n",
              "    fill: var(--fill-color);\n",
              "    height: 32px;\n",
              "    padding: 0;\n",
              "    width: 32px;\n",
              "  }\n",
              "\n",
              "  .colab-df-quickchart:hover {\n",
              "    background-color: var(--hover-bg-color);\n",
              "    box-shadow: 0 1px 2px rgba(60, 64, 67, 0.3), 0 1px 3px 1px rgba(60, 64, 67, 0.15);\n",
              "    fill: var(--button-hover-fill-color);\n",
              "  }\n",
              "\n",
              "  .colab-df-quickchart-complete:disabled,\n",
              "  .colab-df-quickchart-complete:disabled:hover {\n",
              "    background-color: var(--disabled-bg-color);\n",
              "    fill: var(--disabled-fill-color);\n",
              "    box-shadow: none;\n",
              "  }\n",
              "\n",
              "  .colab-df-spinner {\n",
              "    border: 2px solid var(--fill-color);\n",
              "    border-color: transparent;\n",
              "    border-bottom-color: var(--fill-color);\n",
              "    animation:\n",
              "      spin 1s steps(1) infinite;\n",
              "  }\n",
              "\n",
              "  @keyframes spin {\n",
              "    0% {\n",
              "      border-color: transparent;\n",
              "      border-bottom-color: var(--fill-color);\n",
              "      border-left-color: var(--fill-color);\n",
              "    }\n",
              "    20% {\n",
              "      border-color: transparent;\n",
              "      border-left-color: var(--fill-color);\n",
              "      border-top-color: var(--fill-color);\n",
              "    }\n",
              "    30% {\n",
              "      border-color: transparent;\n",
              "      border-left-color: var(--fill-color);\n",
              "      border-top-color: var(--fill-color);\n",
              "      border-right-color: var(--fill-color);\n",
              "    }\n",
              "    40% {\n",
              "      border-color: transparent;\n",
              "      border-right-color: var(--fill-color);\n",
              "      border-top-color: var(--fill-color);\n",
              "    }\n",
              "    60% {\n",
              "      border-color: transparent;\n",
              "      border-right-color: var(--fill-color);\n",
              "    }\n",
              "    80% {\n",
              "      border-color: transparent;\n",
              "      border-right-color: var(--fill-color);\n",
              "      border-bottom-color: var(--fill-color);\n",
              "    }\n",
              "    90% {\n",
              "      border-color: transparent;\n",
              "      border-bottom-color: var(--fill-color);\n",
              "    }\n",
              "  }\n",
              "</style>\n",
              "\n",
              "  <script>\n",
              "    async function quickchart(key) {\n",
              "      const quickchartButtonEl =\n",
              "        document.querySelector('#' + key + ' button');\n",
              "      quickchartButtonEl.disabled = true;  // To prevent multiple clicks.\n",
              "      quickchartButtonEl.classList.add('colab-df-spinner');\n",
              "      try {\n",
              "        const charts = await google.colab.kernel.invokeFunction(\n",
              "            'suggestCharts', [key], {});\n",
              "      } catch (error) {\n",
              "        console.error('Error during call to suggestCharts:', error);\n",
              "      }\n",
              "      quickchartButtonEl.classList.remove('colab-df-spinner');\n",
              "      quickchartButtonEl.classList.add('colab-df-quickchart-complete');\n",
              "    }\n",
              "    (() => {\n",
              "      let quickchartButtonEl =\n",
              "        document.querySelector('#df-b0f6bae8-c818-4e90-ae58-6e9cfe887a7f button');\n",
              "      quickchartButtonEl.style.display =\n",
              "        google.colab.kernel.accessAllowed ? 'block' : 'none';\n",
              "    })();\n",
              "  </script>\n",
              "</div>\n",
              "    </div>\n",
              "  </div>\n"
            ],
            "text/plain": [
              "             Make                         Model    Vehicle_Class  Eng_Size  \\\n",
              "75        BENTLEY                      MULSANNE         MID-SIZE       6.8   \n",
              "223     CHEVROLET        EXPRESS 2500 PASSENGER  VAN - PASSENGER       4.8   \n",
              "224     CHEVROLET        EXPRESS 2500 PASSENGER  VAN - PASSENGER       6.0   \n",
              "225     CHEVROLET        EXPRESS 2500 PASSENGER  VAN - PASSENGER       6.0   \n",
              "226     CHEVROLET        EXPRESS 3500 PASSENGER  VAN - PASSENGER       4.8   \n",
              "...           ...                           ...              ...       ...   \n",
              "5575      BUGATTI                        Chiron       TWO-SEATER       8.0   \n",
              "6010         JEEP  Grand Cherokee 4X4 Trackhawk   SUV - STANDARD       6.2   \n",
              "6045  LAMBORGHINI               Aventador Coupe       TWO-SEATER       6.5   \n",
              "6046  LAMBORGHINI            Aventador Roadster       TWO-SEATER       6.5   \n",
              "7058  LAMBORGHINI               Aventador Coupe       TWO-SEATER       6.5   \n",
              "\n",
              "      Cylinders Transmission Fuel_Type  fuel_cons_city  fuel_cons_hwy  \\\n",
              "75            8           AS         Z            22.3           14.9   \n",
              "223           8            A         X            21.1           14.2   \n",
              "224           8            A         X            21.9           15.0   \n",
              "225           8            A         E            30.0           20.4   \n",
              "226           8            A         X            21.3           14.3   \n",
              "...         ...          ...       ...             ...            ...   \n",
              "5575         16           AM         Z            26.8           16.6   \n",
              "6010          8            A         Z            20.9           13.8   \n",
              "6045         12           AM         Z            26.3           15.6   \n",
              "6046         12           AM         Z            26.6           15.8   \n",
              "7058         12           AM         Z            26.2           15.5   \n",
              "\n",
              "      fuel_cons_comb  mpgfuel_cons_comb    co2  \n",
              "75              19.0               15.0  437.0  \n",
              "223             18.0               16.0  414.0  \n",
              "224             18.8               15.0  432.0  \n",
              "225             25.7               11.0  411.0  \n",
              "226             18.2               16.0  419.0  \n",
              "...              ...                ...    ...  \n",
              "5575            22.2               13.0  522.0  \n",
              "6010            17.7               16.0  413.0  \n",
              "6045            21.5               13.0  487.0  \n",
              "6046            21.7               13.0  493.0  \n",
              "7058            21.4               13.0  485.0  \n",
              "\n",
              "[74 rows x 12 columns]"
            ]
          },
          "execution_count": 127,
          "metadata": {},
          "output_type": "execute_result"
        }
      ],
      "source": [
        "outlier_df"
      ]
    },
    {
      "cell_type": "markdown",
      "metadata": {
        "id": "4Xpv1b95yxR1"
      },
      "source": [
        "# Model Fitting"
      ]
    },
    {
      "cell_type": "code",
      "execution_count": null,
      "metadata": {
        "colab": {
          "background_save": true
        },
        "id": "s8ZJPLqmy16F"
      },
      "outputs": [],
      "source": [
        "from sklearn.linear_model import LinearRegression\n",
        "from sklearn.metrics import r2_score\n",
        "from sklearn.model_selection import train_test_split\n",
        "from sklearn.preprocessing import (StandardScaler,\n",
        "                                   PolynomialFeatures)"
      ]
    },
    {
      "cell_type": "markdown",
      "metadata": {
        "id": "OPbtg5wKI0kX"
      },
      "source": [
        "##Simple Linear Regression"
      ]
    },
    {
      "cell_type": "markdown",
      "metadata": {
        "id": "s4ZPQgUhl6E9"
      },
      "source": [
        "###Model 1"
      ]
    },
    {
      "cell_type": "code",
      "execution_count": null,
      "metadata": {
        "colab": {
          "background_save": true
        },
        "id": "5dyhLo6n1op3"
      },
      "outputs": [],
      "source": [
        "slr = LinearRegression()"
      ]
    },
    {
      "cell_type": "markdown",
      "metadata": {
        "id": "8kIwR-EnOi7O"
      },
      "source": [
        "*     Cylinder (residual mean near 0 and qq almost straight)\n",
        "*     Combined Fuel Consumption (residual near 0 , plot like u , qqplot deviation)\n",
        "*     Hwy (residual mean near 0 , plot shape x^2 and qq les deviated)"
      ]
    },
    {
      "cell_type": "code",
      "execution_count": null,
      "metadata": {
        "colab": {
          "background_save": true
        },
        "id": "TLKBJWsy1vdu",
        "outputId": "19979ecb-9532-4531-9414-0bec057faffd"
      },
      "outputs": [
        {
          "data": {
            "text/plain": [
              "(6282, 12)"
            ]
          },
          "execution_count": 130,
          "metadata": {},
          "output_type": "execute_result"
        }
      ],
      "source": [
        "# First fitting the Simple Linear regression model Engine size as regressor (Cylinder)\n",
        "import math\n",
        "y = df1['co2']\n",
        "x1 = df1[['Cylinders']]\n",
        "from scipy.stats import boxcox\n",
        "# taking log transformation\n",
        "x1=np.log(x1)\n",
        "s = StandardScaler()\n",
        "x1 = s.fit_transform(x1)\n",
        "df1.shape"
      ]
    },
    {
      "cell_type": "code",
      "execution_count": null,
      "metadata": {
        "colab": {
          "background_save": true
        },
        "id": "HAze-L5K4UaQ"
      },
      "outputs": [],
      "source": [
        "\n",
        "# Splitting the data into Train and Test parts\n",
        "x1_train , x1_test , y1_train , y1_test = train_test_split(x1, y, test_size = 0.3 , random_state= 20 )\n"
      ]
    },
    {
      "cell_type": "code",
      "execution_count": null,
      "metadata": {
        "colab": {
          "background_save": true
        },
        "id": "cAv04TqTEyrL"
      },
      "outputs": [],
      "source": [
        "\n",
        "\n",
        "slr.fit(x1_train, y1_train)\n",
        "\n",
        "y1_pred = slr.predict(x1_test)"
      ]
    },
    {
      "cell_type": "code",
      "execution_count": null,
      "metadata": {
        "colab": {
          "background_save": true
        },
        "id": "U-XKZSYnHboN",
        "outputId": "3985058d-6763-498d-ea0c-2dad94442275"
      },
      "outputs": [
        {
          "name": "stdout",
          "output_type": "stream",
          "text": [
            "R2 score is 0.593329266144011\n",
            "Adjusted R2 score is : %02f 0.5931997325450762\n",
            "Residual sum of squares (MSE): 1020.83\n"
          ]
        }
      ],
      "source": [
        "r2 = r2_score(y1_pred , y1_test)\n",
        "print(f\"R2 score is {r2_score(y1_pred , y1_test)}\")\n",
        "print(\"Adjusted R2 score is : %02f\", 1-((1-r2)*(6282-1)/(6282 - 2 - 1)))\n",
        "print(\"Residual sum of squares (MSE): %.2f\" % np.mean((y1_pred - y1_test) ** 2))"
      ]
    },
    {
      "cell_type": "markdown",
      "metadata": {
        "id": "tagAu_D1Is9J"
      },
      "source": [
        "*    Accuracy is about 59.33%\n",
        "*    MSE 1020.83"
      ]
    },
    {
      "cell_type": "markdown",
      "metadata": {
        "id": "oNLs_gr3jMYJ"
      },
      "source": [
        "####Residual Plot"
      ]
    },
    {
      "cell_type": "code",
      "execution_count": null,
      "metadata": {
        "colab": {
          "background_save": true
        },
        "id": "8H0m8W0GjLf2",
        "outputId": "a46d4de6-fedf-48d9-ac01-0aca6847792e"
      },
      "outputs": [
        {
          "name": "stdout",
          "output_type": "stream",
          "text": [
            "-9.618263277789667e-15\n",
            "-0.47331976176736945\n"
          ]
        },
        {
          "data": {
            "image/png": "[encoded data removed]",
            "text/plain": [
              "<Figure size 1200x600 with 2 Axes>"
            ]
          },
          "metadata": {},
          "output_type": "display_data"
        }
      ],
      "source": [
        "plt.figure(figsize=(12,6))\n",
        "plt.subplot(1,2,1)\n",
        "# Residul plot of Train data\n",
        "residual1_train = y1_train - slr.predict(x1_train)\n",
        "sns.residplot(x = slr.predict(x1_train) , y = residual1_train , scatter_kws={'s':3})\n",
        "plt.xlabel('Y_Train ')\n",
        "plt.ylabel('Residual')\n",
        "plt.title('Residual plot on Train Data (Fuel Consumption) ')\n",
        "print(np.mean(residual1_train))\n",
        "\n",
        "# Residual plot of Test Data\n",
        "plt.subplot(1,2,2)\n",
        "residual1_test = y1_test - y1_pred\n",
        "sns.residplot(x = y1_pred , y = residual1_test , scatter_kws={'s':3})\n",
        "plt.xlabel('Y_Test ')\n",
        "plt.ylabel('Residual')\n",
        "plt.title('Residual plot on Test Data (Fuel Consumption) ')\n",
        "print(np.mean(residual1_test))"
      ]
    },
    {
      "cell_type": "code",
      "execution_count": null,
      "metadata": {
        "colab": {
          "background_save": true
        },
        "id": "skeDhfGmqAj_",
        "outputId": "bb5481a9-4cae-4f39-eef6-965b707b2e48"
      },
      "outputs": [
        {
          "data": {
            "text/plain": [
              "Text(0.5, 1.0, 'Train')"
            ]
          },
          "execution_count": 135,
          "metadata": {},
          "output_type": "execute_result"
        },
        {
          "data": {
            "image/png": "[encoded data removed]",
            "text/plain": [
              "<Figure size 1200x600 with 2 Axes>"
            ]
          },
          "metadata": {},
          "output_type": "display_data"
        }
      ],
      "source": [
        "plt.figure(figsize=(12,6))\n",
        "# Q-Q plot to check normality assumption\n",
        "from scipy.stats import probplot\n",
        "plt.subplot(1,2,1)\n",
        "probplot(residual1_test , dist = 'norm' , plot = plt)\n",
        "plt.title(\"Test\")\n",
        "plt.subplot(1,2,2)\n",
        "probplot(residual1_train , dist = 'norm' , plot = plt)\n",
        "plt.title(\"Train\")"
      ]
    },
    {
      "cell_type": "markdown",
      "metadata": {
        "id": "-oKWNiUpmEer"
      },
      "source": [
        "###Model 2"
      ]
    },
    {
      "cell_type": "code",
      "execution_count": null,
      "metadata": {
        "colab": {
          "background_save": true
        },
        "id": "x4odZSlomDxK"
      },
      "outputs": [],
      "source": [
        "# First fitting the Simple Linear regression model Engine size as regressor\n",
        "y = df1['co2']\n",
        "x2 = df1[[\"Eng_Size\"]]\n",
        "x2 = np.log(x2)\n",
        "#x2 = np.sqrt(x2)\n",
        "#x2 = x2*x2"
      ]
    },
    {
      "cell_type": "code",
      "execution_count": null,
      "metadata": {
        "colab": {
          "background_save": true
        },
        "id": "zvlf5u5fmRqn"
      },
      "outputs": [],
      "source": [
        "# Splitting the data into Train and Test parts\n",
        "x2_train , x2_test , y2_train , y2_test = train_test_split(x2, y, test_size = 0.3 , random_state= 20 )\n"
      ]
    },
    {
      "cell_type": "code",
      "execution_count": null,
      "metadata": {
        "colab": {
          "background_save": true
        },
        "id": "i-aGE15emRnU"
      },
      "outputs": [],
      "source": [
        "# Standardising the variable\n",
        "s = StandardScaler()\n",
        "x2_train_s = s.fit_transform(x2_train)"
      ]
    },
    {
      "cell_type": "code",
      "execution_count": null,
      "metadata": {
        "colab": {
          "background_save": true
        },
        "id": "k1gDPckEmYpT"
      },
      "outputs": [],
      "source": [
        "slr.fit(x2_train_s, y2_train)\n",
        "x2_test_s = s.transform(x2_test)\n",
        "y2_pred = slr.predict(x2_test_s)"
      ]
    },
    {
      "cell_type": "code",
      "execution_count": null,
      "metadata": {
        "colab": {
          "background_save": true
        },
        "id": "FRl8Ezm4mcfW",
        "outputId": "bd238e0c-4093-4332-d929-3c28e9a1688c"
      },
      "outputs": [
        {
          "name": "stdout",
          "output_type": "stream",
          "text": [
            "R2 score is 0.6321743795127482\n",
            "Residual sum of squares (MSE): 957.47\n"
          ]
        }
      ],
      "source": [
        "print(f\"R2 score is {r2_score(y2_pred , y2_test)}\")\n",
        "print(\"Residual sum of squares (MSE): %.2f\" % np.mean((y2_pred - y2_test) ** 2))"
      ]
    },
    {
      "cell_type": "markdown",
      "metadata": {
        "id": "LdmRSDWPaxGf"
      },
      "source": [
        "R Square = 0.6396"
      ]
    },
    {
      "cell_type": "code",
      "execution_count": null,
      "metadata": {
        "id": "0JOVi3k8ntdB"
      },
      "outputs": [],
      "source": [
        "plt.figure(figsize=(12,6))\n",
        "plt.subplot(1,2,1)\n",
        "# Residul plot of Train data\n",
        "residual2_train = y2_train - slr.predict(x2_train)\n",
        "sns.residplot(x = slr.predict(x2_train) , y = residual2_train , scatter_kws={'s':3})\n",
        "plt.xlabel('Y_Train ')\n",
        "plt.ylabel('Residual')\n",
        "plt.title('Residual plot on Train Data (Eng_Size)) ')\n",
        "print(np.mean(residual2_train))\n",
        "\n",
        "# Residual plot of Test Data\n",
        "plt.subplot(1,2,2)\n",
        "residual2_test = y2_test - y2_pred\n",
        "sns.residplot(x = y2_pred , y = residual2_test , scatter_kws={'s':3})\n",
        "plt.xlabel('Y_Test ')\n",
        "plt.ylabel('Residual')\n",
        "plt.title('Residual plot on Test Data (Eng_Size) ')\n",
        "print(np.mean(residual2_test))"
      ]
    },
    {
      "cell_type": "code",
      "execution_count": null,
      "metadata": {
        "id": "3UWAWDrQL0xt"
      },
      "outputs": [],
      "source": [
        "plt.figure(figsize=(12,6))\n",
        "# Q-Q plot to check normality assumption\n",
        "from scipy.stats import probplot\n",
        "plt.subplot(1,2,1)\n",
        "probplot(residual2_test , dist = 'norm' , plot = plt)\n",
        "plt.title(\"Test\")\n",
        "plt.subplot(1,2,2)\n",
        "probplot(residual2_train , dist = 'norm' , plot = plt)\n",
        "plt.title(\"Train\")"
      ]
    },
    {
      "cell_type": "markdown",
      "metadata": {
        "id": "_DwXrLkSC8XO"
      },
      "source": [
        "*    Mpg , fuel combined -\n",
        "      checked transformations (X , log(x) , sqrt(x) , 1/x) and rejected all. Assumption of Residual plot and normality not satisfied.\n",
        "*   Cylinder with (log(x)), Eng-Size , fuel consumption highway simple X is to be used."
      ]
    },
    {
      "cell_type": "markdown",
      "metadata": {
        "id": "mbs3n7NSI_Em"
      },
      "source": [
        "##Multiple Linear Regression"
      ]
    },
    {
      "cell_type": "markdown",
      "metadata": {
        "id": "CYzbKUIj_aj5"
      },
      "source": [
        "###Model 1"
      ]
    },
    {
      "cell_type": "code",
      "execution_count": null,
      "metadata": {
        "id": "Aj7lg9fbCcFU"
      },
      "outputs": [],
      "source": [
        "mlr = LinearRegression()\n",
        "y = df1['co2']\n",
        "#transforming cyliders using log\n",
        "df1['Cylinders_transformed'] = np.log(df1['Cylinders'])\n",
        "x_1= df1[['Eng_Size' ,\"Cylinders_transformed\" , 'fuel_cons_hwy' ]]\n",
        "#standardising X values\n",
        "s = StandardScaler()\n",
        "x_1 = s.fit_transform(x_1)"
      ]
    },
    {
      "cell_type": "code",
      "execution_count": null,
      "metadata": {
        "id": "EhQQLjlLJzih"
      },
      "outputs": [],
      "source": [
        "# Spltting the data\n",
        "x_train1 , x_test1 , y_train1 , y_test1 = train_test_split(x_1,y, test_size = 0.3 , random_state= 20 )\n",
        "\n",
        "# Fitting the data\n",
        "mlr.fit(x_train1, y_train1)\n",
        "# predicted values for test data\n",
        "y_pred1 = mlr.predict(x_test1)"
      ]
    },
    {
      "cell_type": "code",
      "execution_count": null,
      "metadata": {
        "id": "NIkilfFzKPtH"
      },
      "outputs": [],
      "source": [
        "# R2 score for test data\n",
        "print(f\"R2 score is {r2_score(y_pred1 , y_test1)}\")\n",
        "print(\"Residual sum of squares (MSE): %.2f\" % np.mean((y_pred1 - y_test1) ** 2))\n",
        "# R2 score for train data\n",
        "print(f\"R2 score is {r2_score(mlr.predict(x_train1) , y_train1)}\")\n",
        "print(\"Residual sum of squares (MSE): %.2f\" % np.mean((mlr.predict(x_train1) - y_train1) ** 2))"
      ]
    },
    {
      "cell_type": "markdown",
      "metadata": {
        "id": "p1EA5XsrKWr5"
      },
      "source": [
        "*    Accuracy about 86.1% (On Test Data)\n",
        "*    Accuracy about 86.30% (on Train Data)"
      ]
    },
    {
      "cell_type": "markdown",
      "metadata": {
        "id": "i4TtgTNf7Czu"
      },
      "source": [
        "####Residual Plot"
      ]
    },
    {
      "cell_type": "code",
      "execution_count": null,
      "metadata": {
        "id": "qjMkrMGN4AtA"
      },
      "outputs": [],
      "source": [
        "plt.figure(figsize=(12,6))\n",
        "plt.subplot(1,2,1)\n",
        "# Residul plot of Train data\n",
        "residual_train_1 = y_train1 - mlr.predict(x_train1)\n",
        "sns.residplot(x = mlr.predict(x_train1) , y = residual_train_1 , scatter_kws={'s':3})\n",
        "plt.xlabel('Y_Train 1')\n",
        "plt.ylabel('Residual')\n",
        "plt.title('Residual plot on Train Data 1')\n",
        "print(np.mean(residual_train_1))\n",
        "\n",
        "# Residual plot of Test Data\n",
        "plt.subplot(1,2,2)\n",
        "residual_test_1 = y_test1 - y_pred1\n",
        "sns.residplot(x = y_pred1 , y = residual_test_1 , scatter_kws={'s':3})\n",
        "plt.xlabel('Y_Test 1')\n",
        "plt.ylabel('Residual')\n",
        "plt.title('Residual plot on Test Data 1')\n",
        "print(np.mean(residual_test_1))"
      ]
    },
    {
      "cell_type": "markdown",
      "metadata": {
        "id": "6j4wfhcH7Jq0"
      },
      "source": [
        "There is some dependency of residual variation on predicted value. Here Outward Open Funnel is created which shows that variation inc. w.r.t predicted value."
      ]
    },
    {
      "cell_type": "code",
      "execution_count": null,
      "metadata": {
        "id": "PvML9pd4KlEN"
      },
      "outputs": [],
      "source": [
        "plt.figure(figsize=(12,6))\n",
        "# Q-Q plot to check normality assumption\n",
        "from scipy.stats import probplot\n",
        "plt.subplot(1,2,1)\n",
        "probplot(residual_test_1, dist = 'norm' , plot = plt)\n",
        "plt.title(\"Test\")\n",
        "plt.subplot(1,2,2)\n",
        "probplot(residual_train_1 , dist = 'norm' , plot = plt)\n",
        "plt.title(\"Train\")"
      ]
    },
    {
      "cell_type": "markdown",
      "metadata": {
        "id": "PhxkI2k1IhYP"
      },
      "source": [
        "### Now including Dummy variables"
      ]
    },
    {
      "cell_type": "code",
      "execution_count": null,
      "metadata": {
        "id": "STy8febR_u-1"
      },
      "outputs": [],
      "source": [
        "# creating Dummy Variables\n",
        "df_dummies = pd.get_dummies(df1 , columns = ['Transmission' , 'Fuel_Type'] , drop_first = True)\n",
        "print(df_dummies)"
      ]
    },
    {
      "cell_type": "code",
      "execution_count": null,
      "metadata": {
        "id": "_KP_AHO5Ix_t"
      },
      "outputs": [],
      "source": [
        "# Regression with dummies\n",
        "mlr = LinearRegression()\n",
        "y_2 = df_dummies['co2']\n",
        "# droping unwanted variables and working with only (Engine size , Cylinders_transformed , Fuel Consumption Combined , Transmission , Fuel Type)\n",
        "#x_2 = df_dummies.drop(columns = ['co2'], axis = 1)\n",
        "x_2 = df_dummies.drop(columns = ['co2' ,'Make','Cylinders','Model','Vehicle_Class','fuel_cons_city', 'fuel_cons_comb', 'mpgfuel_cons_comb'], axis = 1)\n"
      ]
    },
    {
      "cell_type": "code",
      "execution_count": null,
      "metadata": {
        "id": "qUt88nOpWG8A"
      },
      "outputs": [],
      "source": [
        "x_2"
      ]
    },
    {
      "cell_type": "markdown",
      "metadata": {
        "id": "f32KdTYxAPxX"
      },
      "source": [
        "###Model 2"
      ]
    },
    {
      "cell_type": "code",
      "execution_count": null,
      "metadata": {
        "id": "TKFqfZ0S5EpM"
      },
      "outputs": [],
      "source": [
        "# Splitting the data\n",
        "x_train2 , x_test2 , y_train2 , y_test2 = train_test_split(x_2, y_2, test_size = 0.3 , random_state= 20 )\n",
        "# Fitting the data\n",
        "mlr.fit(x_train2, y_train2)\n",
        "# predicted values\n",
        "y_pred2 = mlr.predict(x_test2)"
      ]
    },
    {
      "cell_type": "code",
      "execution_count": null,
      "metadata": {
        "id": "MAc5aYuYJx9w"
      },
      "outputs": [],
      "source": [
        "# R2 score of Train data\n",
        "print(f\"Train R2 score is {r2_score(mlr.predict(x_train2) , y_train2)}\")\n",
        "print(\"Residual sum of squares (MSE): %.2f\" % np.mean((mlr.predict(x_train2) - y_train2) ** 2))\n",
        "\n",
        "# R2 score of Test data\n",
        "print(f\"atest R2 score is {r2_score(y_pred2 , y_test2)}\")\n",
        "print(\"Residual sum of squares (MSE): %.2f\" % np.mean((y_pred2 - y_test2) ** 2))"
      ]
    },
    {
      "cell_type": "code",
      "execution_count": null,
      "metadata": {
        "id": "SCUNU2pQeiTv"
      },
      "outputs": [],
      "source": [
        "mlr.coef_"
      ]
    },
    {
      "cell_type": "markdown",
      "metadata": {
        "id": "JVg4c0zSLd1o"
      },
      "source": [
        "R2 score improved from 86.1% to 99.05 %"
      ]
    },
    {
      "cell_type": "markdown",
      "metadata": {
        "id": "oso1fedcAXaM"
      },
      "source": [
        "####Residual plot"
      ]
    },
    {
      "cell_type": "code",
      "execution_count": null,
      "metadata": {
        "id": "AWuZ79MqJ11b"
      },
      "outputs": [],
      "source": [
        "plt.figure(figsize=(12,6))\n",
        "# Residual plot with predicted values test data\n",
        "plt.subplot(1,2,1)\n",
        "residual_test_2 = y_test2 - y_pred2\n",
        "sns.residplot(x = y_pred2 , y = residual_test_2 , scatter_kws = {'s':3})\n",
        "plt.xlabel('Y pred Test 2')\n",
        "plt.ylabel('Residual')\n",
        "plt.title('Residual plot Test 2')\n",
        "print(np.mean(residual_test_2))\n",
        "\n",
        "# Residual plot with predicted values train data\n",
        "plt.subplot(1,2,2)\n",
        "residual_train_2 = y_train2 - mlr.predict(x_train2)\n",
        "sns.residplot(x = mlr.predict(x_train2) , y = residual_train_2 , scatter_kws = {'s':3})\n",
        "plt.xlabel('Y pred Train 2')\n",
        "plt.ylabel('Residual')\n",
        "plt.title('Residual plot Train2 ')\n",
        "print(np.mean(residual_train_2))"
      ]
    },
    {
      "cell_type": "markdown",
      "metadata": {
        "id": "o5DnVTfzG0z8"
      },
      "source": [
        "####Q-Q Plot"
      ]
    },
    {
      "cell_type": "code",
      "execution_count": null,
      "metadata": {
        "id": "FFh3NKuyLsmS"
      },
      "outputs": [],
      "source": [
        "plt.figure(figsize=(12,6))\n",
        "# Q-Q plot to check normality assumption\n",
        "from scipy.stats import probplot\n",
        "plt.subplot(1,2,1)\n",
        "probplot(residual_test_2 , dist = 'norm' , plot = plt)\n",
        "plt.title(\"Test\")\n",
        "plt.subplot(1,2,2)\n",
        "probplot(residual_train_2 , dist = 'norm' , plot = plt)\n",
        "plt.title(\"Train\")"
      ]
    },
    {
      "cell_type": "markdown",
      "metadata": {
        "id": "d86J5olUZ81C"
      },
      "source": [
        "We can observe that there is great deviation in qq plot from the line which indicates that Normality assumption is violated."
      ]
    },
    {
      "cell_type": "code",
      "execution_count": null,
      "metadata": {
        "id": "g1OTvr-O5eOK"
      },
      "outputs": [],
      "source": [
        "plt.figure(figsize=(12,6))\n",
        "plt.subplot(1,2,1)\n",
        "sns.kdeplot( residual_train_2, fill = True)\n",
        "plt.xlabel(\"Residual of Train Data\")\n",
        "plt.title(\"Train\")\n",
        "\n",
        "plt.subplot(1,2,2)\n",
        "sns.kdeplot( residual_test_2, fill = True)\n",
        "plt.xlabel(\"Residual of Test Data\")\n",
        "plt.title(\"Test\")"
      ]
    },
    {
      "cell_type": "markdown",
      "metadata": {
        "id": "nmH7SKb5BoHB"
      },
      "source": [
        "Residuals are left skewed."
      ]
    },
    {
      "cell_type": "markdown",
      "metadata": {
        "id": "VxxGojcfYHmb"
      },
      "source": [
        "###Removing Infuential Observations by cooks distance"
      ]
    },
    {
      "cell_type": "code",
      "execution_count": null,
      "metadata": {
        "id": "XYAeI8KlNKTw"
      },
      "outputs": [],
      "source": [
        "import statsmodels.api as sm\n",
        "from statsmodels.stats.outliers_influence import OLSInfluence\n",
        "model = sm.OLS(y_2 , x_2).fit()"
      ]
    },
    {
      "cell_type": "code",
      "execution_count": null,
      "metadata": {
        "id": "EXaZyRJaOc2h"
      },
      "outputs": [],
      "source": [
        "influence = OLSInfluence(model)\n",
        "cooks_distance = influence.cooks_distance\n",
        "cook = cooks_distance[0]\n",
        "df2 = df1.copy(deep = True)\n",
        "df2['Cook_Distance'] = cook\n",
        "df2"
      ]
    },
    {
      "cell_type": "code",
      "execution_count": null,
      "metadata": {
        "id": "zSgOtJdpRHM6"
      },
      "outputs": [],
      "source": [
        "threshold = 4/(6282)\n",
        "influential_indices = df2[df2['Cook_Distance'] > threshold].index.tolist()\n",
        "len(influential_indices)"
      ]
    },
    {
      "cell_type": "code",
      "execution_count": null,
      "metadata": {
        "id": "NG0O3Nt6S-Ef"
      },
      "outputs": [],
      "source": [
        "df2 = df2.drop(influential_indices)\n",
        "#df_3 = df2.drop(df2['Fuel_Type'] == '')"
      ]
    },
    {
      "cell_type": "markdown",
      "metadata": {
        "id": "2fxngmjHYSJy"
      },
      "source": [
        "###Model 3 (After removing influential observations)"
      ]
    },
    {
      "cell_type": "code",
      "execution_count": null,
      "metadata": {
        "id": "Oy-DtWyufCWc"
      },
      "outputs": [],
      "source": [
        "dfdroped_dummies = pd.get_dummies(df2 , columns = ['Transmission' , 'Fuel_Type'] , drop_first = True)\n",
        "print(dfdroped_dummies)"
      ]
    },
    {
      "cell_type": "code",
      "execution_count": null,
      "metadata": {
        "id": "zpH6XxCXUuC_"
      },
      "outputs": [],
      "source": [
        "mlr = LinearRegression()\n",
        "y__2 = dfdroped_dummies['co2']\n",
        "# droping unwanted variables and working with only (Engine size , Cylinders_transformed , Fuel Consumption Combined , Transmission , Fuel Type)\n",
        "#x_2 = df_dummies.drop(columns = ['co2'], axis = 1)\n",
        "x__2 = dfdroped_dummies.drop(columns = ['co2' ,'Make','Cylinders','Model','Vehicle_Class','Cook_Distance','fuel_cons_city', 'fuel_cons_comb', 'mpgfuel_cons_comb'], axis = 1)\n"
      ]
    },
    {
      "cell_type": "code",
      "execution_count": null,
      "metadata": {
        "id": "KM-DZnWQUtt0"
      },
      "outputs": [],
      "source": [
        "x__2"
      ]
    },
    {
      "cell_type": "code",
      "execution_count": null,
      "metadata": {
        "id": "DQ5RhDf7cb8E"
      },
      "outputs": [],
      "source": [
        "# Splitting the data\n",
        "x_train3 , x_test3 , y_train3 , y_test3 = train_test_split(x__2, y__2, test_size = 0.3 , random_state= 20 )\n",
        "# Fitting the data\n",
        "mlr.fit(x_train3, y_train3)\n",
        "\n",
        "# predicted values\n",
        "y_pred3 = mlr.predict(x_test3)\n",
        "x_train3.shape()"
      ]
    },
    {
      "cell_type": "code",
      "execution_count": null,
      "metadata": {
        "id": "9F5-1GknZtEM"
      },
      "outputs": [],
      "source": [
        "print(f\"Train R2 score is {r2_score(mlr.predict(x_train3) , y_train3)}\")\n",
        "print(f\"Train adjusted R2 score {1 - ((5855-1)/(5855-11))*(1-r2_score(mlr.predict(x_train3) , y_train3))}\")\n",
        "print(\"Residual sum of squares (MSE): %.2f\" % np.mean((mlr.predict(x_train3) - y_train3) ** 2))\n",
        "\n",
        "# R2 score of Test data\n",
        "print(f\"atest R2 score is {r2_score(y_pred3 , y_test3)}\")\n",
        "print(\"Residual sum of squares (MSE): %.2f\" % np.mean((y_pred3 - y_test3) ** 2))"
      ]
    },
    {
      "cell_type": "markdown",
      "metadata": {
        "id": "UEE3DoBJZKax"
      },
      "source": [
        "#### Residual plot\n"
      ]
    },
    {
      "cell_type": "code",
      "execution_count": null,
      "metadata": {
        "id": "opooC2FKc31F"
      },
      "outputs": [],
      "source": [
        "plt.figure(figsize=(12,6))\n",
        "# Residual plot with predicted values test data\n",
        "plt.subplot(1,2,1)\n",
        "residual_test_3 = y_test3 - y_pred3\n",
        "sns.residplot(x = y_pred3 , y = residual_test_3 , scatter_kws = {'s':3})\n",
        "plt.xlabel('Y pred Test 3')\n",
        "plt.ylabel('Residual')\n",
        "plt.title('Residual plot Test 3')\n",
        "print(np.mean(residual_test_3))\n",
        "\n",
        "# Residual plot with predicted values train data\n",
        "plt.subplot(1,2,2)\n",
        "residual_train_3 = y_train3 - mlr.predict(x_train3)\n",
        "sns.residplot(x = mlr.predict(x_train3) , y = residual_train_3 , scatter_kws = {'s':3})\n",
        "plt.xlabel('Y pred Train 3')\n",
        "plt.ylabel('Residual')\n",
        "plt.title('Residual plot Train3 ')\n",
        "print(np.mean(residual_train_3))"
      ]
    },
    {
      "cell_type": "markdown",
      "metadata": {
        "id": "ERx5QwHgZO6_"
      },
      "source": [
        "####Q-Q Plot"
      ]
    },
    {
      "cell_type": "code",
      "execution_count": null,
      "metadata": {
        "id": "8aRGk-9NdrM_"
      },
      "outputs": [],
      "source": [
        "plt.figure(figsize=(12,6))\n",
        "# Q-Q plot to check normality assumption\n",
        "from scipy.stats import probplot\n",
        "plt.subplot(1,2,1)\n",
        "probplot(residual_test_3 , dist = 'norm' , plot = plt)\n",
        "plt.title(\"Test\")\n",
        "plt.subplot(1,2,2)\n",
        "probplot(residual_train_3 , dist = 'norm' , plot = plt)\n",
        "plt.title(\"Train\")"
      ]
    },
    {
      "cell_type": "markdown",
      "metadata": {
        "id": "bV2NO1KPZT47"
      },
      "source": [
        "####Residual Distribution"
      ]
    },
    {
      "cell_type": "code",
      "execution_count": null,
      "metadata": {
        "id": "Lzr_MSdSe1ox"
      },
      "outputs": [],
      "source": [
        "plt.figure(figsize=(12,6))\n",
        "plt.subplot(1,2,1)\n",
        "sns.kdeplot( residual_train_3, fill = True)\n",
        "plt.xlabel(\"Residual of Train Data\")\n",
        "plt.title(\"Train\")\n",
        "\n",
        "plt.subplot(1,2,2)\n",
        "sns.kdeplot( residual_test_3, fill = True)\n",
        "plt.xlabel(\"Residual of Test Data\")\n",
        "plt.title(\"Test\")"
      ]
    },
    {
      "cell_type": "code",
      "execution_count": null,
      "metadata": {
        "id": "E0rB49xQeOzm"
      },
      "outputs": [],
      "source": [
        "\n",
        "\n"
      ]
    },
    {
      "cell_type": "code",
      "execution_count": null,
      "metadata": {
        "id": "WIhCr2i0eT9q"
      },
      "outputs": [],
      "source": []
    },
    {
      "cell_type": "code",
      "execution_count": null,
      "metadata": {
        "id": "k7UjTiT9-wGD"
      },
      "outputs": [],
      "source": [
        "# VIF\n",
        "from statsmodels.stats.outliers_influence import variance_inflation_factor\n",
        "#x = x.drop(['Eng_Size'] , axis = 1)\n",
        "#vif = [variance_inflation_factor(x.values , i) for i in range(x.shape[1])]\n",
        "#print(vif)"
      ]
    },
    {
      "cell_type": "code",
      "execution_count": null,
      "metadata": {
        "id": "hv_imSZUExqP"
      },
      "outputs": [],
      "source": [
        "vif = pd.DataFrame()\n",
        "vif[\"Variable\"] = x__2.columns\n",
        "vif[\"VIF\"] = [variance_inflation_factor(x__2.values, i) for i in range(x__2.shape[1])]\n",
        "\n",
        "print(vif)"
      ]
    },
    {
      "cell_type": "code",
      "execution_count": null,
      "metadata": {
        "id": "53xa-YksD6NG"
      },
      "outputs": [],
      "source": []
    },
    {
      "cell_type": "code",
      "execution_count": null,
      "metadata": {
        "id": "jypg26d7-zqX"
      },
      "outputs": [],
      "source": [
        "mlr = LinearRegression()\n",
        "dfdroped_dummies2 = dfdroped_dummies.copy(deep =True)\n",
        "dfdroped_dummies2['Eng_transf'] = np.log(dfdroped_dummies2['Eng_Size'])\n",
        "y__3 = dfdroped_dummies2['co2']\n",
        "# droping unwanted variables and working with only (Engine size , Fuel Consumption Highway , Transmission , Fuel Type)\n",
        "#x_2 = df_dummies.drop(columns = ['co2'], axis = 1)\n",
        "x__3 = dfdroped_dummies2.drop(columns = ['co2' ,'Make','Cylinders','Eng_Size','Cylinders_transformed','Model','Vehicle_Class','Cook_Distance','fuel_cons_city', 'fuel_cons_comb', 'mpgfuel_cons_comb'], axis = 1)\n",
        "# Splitting the data\n",
        "x_train4 , x_test4 , y_train4 , y_test4 = train_test_split(x__3, y__3, test_size = 0.3 , random_state= 20 )\n",
        "# Fitting the data\n",
        "mlr.fit(x_train4, y_train4)\n",
        "\n",
        "# predicted values\n",
        "y_pred4 = mlr.predict(x_test4)\n",
        "\n",
        "\n",
        "\n",
        "print(f\"Train R2 score is {r2_score(mlr.predict(x_train4) , y_train4)}\")\n",
        "print(\"Residual sum of squares (MSE): %.2f\" % np.mean((mlr.predict(x_train4) - y_train4) ** 2))\n",
        "\n",
        "# R2 score of Test data\n",
        "print(f\"test R2 score is {r2_score(y_pred4 , y_test4)}\")\n",
        "print(\"Residual sum of squares (MSE): %.2f\" % np.mean((y_pred4 - y_test4) ** 2))\n"
      ]
    },
    {
      "cell_type": "code",
      "execution_count": null,
      "metadata": {
        "id": "vyrlig0QiVrM"
      },
      "outputs": [],
      "source": [
        "vif = pd.DataFrame()\n",
        "vif[\"Variable\"] = x__3.columns\n",
        "vif[\"VIF\"] = [variance_inflation_factor(x__3.values, i) for i in range(x__3.shape[1])]\n",
        "\n",
        "print(vif)"
      ]
    },
    {
      "cell_type": "code",
      "execution_count": null,
      "metadata": {
        "id": "Dpo72W1EiczK"
      },
      "outputs": [],
      "source": []
    }
  ],
  "metadata": {
    "colab": {
      "toc_visible": true,
      "provenance": []
    },
    "kernelspec": {
      "display_name": "Python 3",
      "name": "python3"
    },
    "language_info": {
      "name": "python"
    }
  },
  "nbformat": 4,
  "nbformat_minor": 0
}